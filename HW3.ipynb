{
 "cells": [
  {
   "cell_type": "code",
   "execution_count": 1,
   "metadata": {},
   "outputs": [],
   "source": [
    "import pandas as pd\n",
    "import numpy as np\n",
    "\n",
    "# plotting\n",
    "import matplotlib.pyplot as plt\n",
    "import seaborn as sns\n",
    "%matplotlib inline\n",
    "\n",
    "# preprocessing\n",
    "from sklearn.model_selection import train_test_split\n",
    "from sklearn.preprocessing import OneHotEncoder\n",
    "from sklearn.compose import ColumnTransformer\n",
    "\n",
    "# modeling\n",
    "from sklearn.pipeline import Pipeline\n",
    "from sklearn.linear_model import LogisticRegression\n",
    "from sklearn.model_selection import cross_val_score\n",
    "\n",
    "# other\n",
    "import warnings\n",
    "warnings.filterwarnings('ignore')\n",
    "\n",
    "pd.set_option('display.max_columns', 100)\n",
    "\n",
    "np.random.seed(42)"
   ]
  },
  {
   "cell_type": "markdown",
   "metadata": {},
   "source": [
    "# HW3 - Payment Classification\n",
    "\n",
    "By Corentin Llorca (cl3783) and Costas Vafeades (cv2451)\n",
    "\n",
    "Goal is to predict whether a payment by a company to a medical doctor or facility was made as part of a research project or not. All relevant data can be found [here](https://www.cms.gov/OpenPayments/Explore-the-Data/Dataset-Downloads.html).\n",
    "\n",
    "### Data Description\n",
    "\n",
    "Physicians may be identified as covered recipients of records or as principal investigators associated with research-related payment records. Teaching hospitals may also be identified as covered recipients. Teaching hospitals are defined as any hospital receiving payments for GM, IPPS or IME. \n",
    "\n",
    "\n",
    "Each record in the General Payment, Research Payment, and Ownership/Investment files includes a Change Type indicator field. \n",
    "- NEW: the record is newly reported by the reporting entity since the last publication and is being published for the first time.\n",
    "- ADD: the record is not new in the system but, due to the record not being eligible for publication until the current publication cycle, is being published for the first time.\n",
    "- CHANGED: record was previously published but has been modified since its last publication. A record whose only change since the last publication is a change to its dispute status is categorized as a changed record.\n",
    "- UNCHANGED: record was published during the last publication cycle and is being republished without change in the current publication. "
   ]
  },
  {
   "cell_type": "markdown",
   "metadata": {},
   "source": [
    "## Task 1: Identify Features"
   ]
  },
  {
   "cell_type": "markdown",
   "metadata": {},
   "source": [
    "First of all, let's load the data to assemble the dataset. The data comes from two different csv files, OP_DTL_GNRL_PGYR2017_P01182019.csv (general payments) and OP_DTL_RSRCH_PGYR2017_P01182019.csv (research payments), so we load a subsample of those two files, add the target feature \"research_payment\" (0 for rows in the first file and 1 for rows in the second file) and concatenate them. \n",
    "\n",
    "### How do we balance classes? \n",
    "\n",
    "The data is naturally imbalanced, as there are much more records of general payments than research payments. Here are the row counts for both files: "
   ]
  },
  {
   "cell_type": "code",
   "execution_count": 2,
   "metadata": {},
   "outputs": [
    {
     "name": "stdout",
     "output_type": "stream",
     "text": [
      "General payments: 10663833 lines\n",
      "Research payments: 602530 lines\n"
     ]
    }
   ],
   "source": [
    "n_gen = sum(1 for line in open('data\\OP_DTL_GNRL_PGYR2017_P01182019.csv')) - 1\n",
    "n_res = sum(1 for line in open('data\\OP_DTL_RSRCH_PGYR2017_P01182019.csv')) - 1\n",
    "# the -1 is to exclude header\n",
    "\n",
    "print(\"General payments: \" + str(n_gen) + \" lines\")\n",
    "    \n",
    "print(\"Research payments: \" + str(n_res) + \" lines\")"
   ]
  },
  {
   "cell_type": "markdown",
   "metadata": {},
   "source": [
    "Since the general payments csv is way too large to load, we will select a subsample of the rows for each csv, forming the whole dataset. We have the choice of how many rows to select in each file, and the choice we make will end up deciding the class balance. Here are the two options we have: \n",
    "* Select an equal number of rows for both classes: this completely removes class imbalance and the problems it might cause. However, we lose the \"real-world setting\" with imbalanced classes\n",
    "\n",
    "* Select a number of rows in each file that's proportionate to their total number of rows: this will cause class imbalance problems since there is an approximate 95% / 5% class distribution, but will reflect the whole problem better."
   ]
  },
  {
   "cell_type": "markdown",
   "metadata": {},
   "source": [
    "We ended up choosing the former. "
   ]
  },
  {
   "cell_type": "markdown",
   "metadata": {},
   "source": [
    "### Loading and joining the datasets"
   ]
  },
  {
   "cell_type": "markdown",
   "metadata": {},
   "source": [
    "We first load the separate datasets and add the target feature. To load the data, we do a random subsampling."
   ]
  },
  {
   "cell_type": "code",
   "execution_count": 3,
   "metadata": {},
   "outputs": [],
   "source": [
    "# Number of desired samples for each file\n",
    "nsamples_gen = 10000\n",
    "nsamples_res = 10000\n",
    "\n",
    "skiprows_gen = np.sort(np.random.choice(range(1, n_gen+1), replace = False, size = n_gen - nsamples_res))\n",
    "skiprows_res = np.sort(np.random.choice(range(1, n_res+1), replace = False, size = n_res - nsamples_res))\n",
    "\n",
    "gen = pd.read_csv(\"data\\OP_DTL_GNRL_PGYR2017_P01182019.csv\", skiprows = skiprows_gen, parse_dates=['Date_of_Payment'])\n",
    "res = pd.read_csv(\"data\\OP_DTL_RSRCH_PGYR2017_P01182019.csv\", skiprows = skiprows_res, parse_dates=['Date_of_Payment'])\n",
    "\n",
    "gen['research_payment'] = 0\n",
    "res['research_payment'] = 1"
   ]
  },
  {
   "cell_type": "markdown",
   "metadata": {},
   "source": [
    "#### Concatenation\n",
    "\n",
    "The next problem is to concatenate the data. This raises an issue: our two data files have different columns - but also have a lot of columns in common. The \"baseline\" choice here would be to simply use panda's concatenate function, which would give us a concatenated dataset, whose columns would be the union of the columns of the two separated datasets, filling the missing values with NA. \n",
    "\n",
    "However, this creates a problem: since the two separated datasets are also the two separated classes, then if one feature is only non-missing in one of the classes, it might indirectly reveal information about the class to the model, in an unwanted way (data leakage). The solution to that is to only keep the features that are in both datasets when concatenating (inner join instead of outer join)."
   ]
  },
  {
   "cell_type": "code",
   "execution_count": 206,
   "metadata": {},
   "outputs": [],
   "source": [
    "df = pd.concat([gen, res], join='inner')"
   ]
  },
  {
   "cell_type": "markdown",
   "metadata": {},
   "source": [
    "### Data Types"
   ]
  },
  {
   "cell_type": "markdown",
   "metadata": {},
   "source": [
    "We need to check that pandas has loaded the right data types for our dataframe. Printing the dtypes shows us a few irregularities, namely that there are ID features that are counted as floats/ints when they should be used as categoricals. Other than that, there seems to be no problem. We notice, by looking at the dtypes, that the whole dataset has only one continuous variable (Total_Amount_of_Payment_USDollars)."
   ]
  },
  {
   "cell_type": "code",
   "execution_count": 207,
   "metadata": {},
   "outputs": [],
   "source": [
    "to_cat = ['Teaching_Hospital_CCN', 'Teaching_Hospital_ID',\n",
    "          'Physician_Profile_ID', 'Physician_License_State_code5',\n",
    "          'Record_ID', 'Program_Year', 'research_payment']\n",
    "df = df.astype(dtype={v: object for v in to_cat}, copy=False)"
   ]
  },
  {
   "cell_type": "markdown",
   "metadata": {},
   "source": [
    "### Checking for Data Leakage and Irrelevant Features\n",
    "\n",
    "Before we proceed, it's important to check the values of each of our variables to make sure that they don't leak the target and also remove irrelevant features. "
   ]
  },
  {
   "cell_type": "code",
   "execution_count": 208,
   "metadata": {},
   "outputs": [
    {
     "data": {
      "text/html": [
       "<div>\n",
       "<style scoped>\n",
       "    .dataframe tbody tr th:only-of-type {\n",
       "        vertical-align: middle;\n",
       "    }\n",
       "\n",
       "    .dataframe tbody tr th {\n",
       "        vertical-align: top;\n",
       "    }\n",
       "\n",
       "    .dataframe thead th {\n",
       "        text-align: right;\n",
       "    }\n",
       "</style>\n",
       "<table border=\"1\" class=\"dataframe\">\n",
       "  <thead>\n",
       "    <tr style=\"text-align: right;\">\n",
       "      <th></th>\n",
       "      <th>Change_Type</th>\n",
       "      <th>Covered_Recipient_Type</th>\n",
       "      <th>Teaching_Hospital_CCN</th>\n",
       "      <th>Teaching_Hospital_ID</th>\n",
       "      <th>Teaching_Hospital_Name</th>\n",
       "      <th>Physician_Profile_ID</th>\n",
       "      <th>Physician_First_Name</th>\n",
       "      <th>Physician_Middle_Name</th>\n",
       "      <th>Physician_Last_Name</th>\n",
       "      <th>Physician_Name_Suffix</th>\n",
       "      <th>Recipient_Primary_Business_Street_Address_Line1</th>\n",
       "      <th>Recipient_Primary_Business_Street_Address_Line2</th>\n",
       "      <th>Recipient_City</th>\n",
       "      <th>Recipient_State</th>\n",
       "      <th>Recipient_Zip_Code</th>\n",
       "      <th>Recipient_Country</th>\n",
       "      <th>Recipient_Province</th>\n",
       "      <th>Recipient_Postal_Code</th>\n",
       "      <th>Physician_Primary_Type</th>\n",
       "      <th>Physician_Specialty</th>\n",
       "      <th>Physician_License_State_code1</th>\n",
       "      <th>Physician_License_State_code2</th>\n",
       "      <th>Physician_License_State_code3</th>\n",
       "      <th>Physician_License_State_code4</th>\n",
       "      <th>Physician_License_State_code5</th>\n",
       "      <th>Submitting_Applicable_Manufacturer_or_Applicable_GPO_Name</th>\n",
       "      <th>Applicable_Manufacturer_or_Applicable_GPO_Making_Payment_ID</th>\n",
       "      <th>Applicable_Manufacturer_or_Applicable_GPO_Making_Payment_Name</th>\n",
       "      <th>Applicable_Manufacturer_or_Applicable_GPO_Making_Payment_State</th>\n",
       "      <th>Applicable_Manufacturer_or_Applicable_GPO_Making_Payment_Country</th>\n",
       "      <th>Total_Amount_of_Payment_USDollars</th>\n",
       "      <th>Date_of_Payment</th>\n",
       "      <th>Form_of_Payment_or_Transfer_of_Value</th>\n",
       "      <th>Delay_in_Publication_Indicator</th>\n",
       "      <th>Record_ID</th>\n",
       "      <th>Dispute_Status_for_Publication</th>\n",
       "      <th>Related_Product_Indicator</th>\n",
       "      <th>Covered_or_Noncovered_Indicator_1</th>\n",
       "      <th>Indicate_Drug_or_Biological_or_Device_or_Medical_Supply_1</th>\n",
       "      <th>Product_Category_or_Therapeutic_Area_1</th>\n",
       "      <th>Name_of_Drug_or_Biological_or_Device_or_Medical_Supply_1</th>\n",
       "      <th>Associated_Drug_or_Biological_NDC_1</th>\n",
       "      <th>Covered_or_Noncovered_Indicator_2</th>\n",
       "      <th>Indicate_Drug_or_Biological_or_Device_or_Medical_Supply_2</th>\n",
       "      <th>Product_Category_or_Therapeutic_Area_2</th>\n",
       "      <th>Name_of_Drug_or_Biological_or_Device_or_Medical_Supply_2</th>\n",
       "      <th>Associated_Drug_or_Biological_NDC_2</th>\n",
       "      <th>Covered_or_Noncovered_Indicator_3</th>\n",
       "      <th>Indicate_Drug_or_Biological_or_Device_or_Medical_Supply_3</th>\n",
       "      <th>Product_Category_or_Therapeutic_Area_3</th>\n",
       "      <th>Name_of_Drug_or_Biological_or_Device_or_Medical_Supply_3</th>\n",
       "      <th>Associated_Drug_or_Biological_NDC_3</th>\n",
       "      <th>Covered_or_Noncovered_Indicator_4</th>\n",
       "      <th>Indicate_Drug_or_Biological_or_Device_or_Medical_Supply_4</th>\n",
       "      <th>Product_Category_or_Therapeutic_Area_4</th>\n",
       "      <th>Name_of_Drug_or_Biological_or_Device_or_Medical_Supply_4</th>\n",
       "      <th>Associated_Drug_or_Biological_NDC_4</th>\n",
       "      <th>Covered_or_Noncovered_Indicator_5</th>\n",
       "      <th>Indicate_Drug_or_Biological_or_Device_or_Medical_Supply_5</th>\n",
       "      <th>Product_Category_or_Therapeutic_Area_5</th>\n",
       "      <th>Name_of_Drug_or_Biological_or_Device_or_Medical_Supply_5</th>\n",
       "      <th>Associated_Drug_or_Biological_NDC_5</th>\n",
       "      <th>Program_Year</th>\n",
       "      <th>Payment_Publication_Date</th>\n",
       "      <th>research_payment</th>\n",
       "    </tr>\n",
       "    <tr>\n",
       "      <th>research_payment</th>\n",
       "      <th></th>\n",
       "      <th></th>\n",
       "      <th></th>\n",
       "      <th></th>\n",
       "      <th></th>\n",
       "      <th></th>\n",
       "      <th></th>\n",
       "      <th></th>\n",
       "      <th></th>\n",
       "      <th></th>\n",
       "      <th></th>\n",
       "      <th></th>\n",
       "      <th></th>\n",
       "      <th></th>\n",
       "      <th></th>\n",
       "      <th></th>\n",
       "      <th></th>\n",
       "      <th></th>\n",
       "      <th></th>\n",
       "      <th></th>\n",
       "      <th></th>\n",
       "      <th></th>\n",
       "      <th></th>\n",
       "      <th></th>\n",
       "      <th></th>\n",
       "      <th></th>\n",
       "      <th></th>\n",
       "      <th></th>\n",
       "      <th></th>\n",
       "      <th></th>\n",
       "      <th></th>\n",
       "      <th></th>\n",
       "      <th></th>\n",
       "      <th></th>\n",
       "      <th></th>\n",
       "      <th></th>\n",
       "      <th></th>\n",
       "      <th></th>\n",
       "      <th></th>\n",
       "      <th></th>\n",
       "      <th></th>\n",
       "      <th></th>\n",
       "      <th></th>\n",
       "      <th></th>\n",
       "      <th></th>\n",
       "      <th></th>\n",
       "      <th></th>\n",
       "      <th></th>\n",
       "      <th></th>\n",
       "      <th></th>\n",
       "      <th></th>\n",
       "      <th></th>\n",
       "      <th></th>\n",
       "      <th></th>\n",
       "      <th></th>\n",
       "      <th></th>\n",
       "      <th></th>\n",
       "      <th></th>\n",
       "      <th></th>\n",
       "      <th></th>\n",
       "      <th></th>\n",
       "      <th></th>\n",
       "      <th></th>\n",
       "      <th></th>\n",
       "      <th></th>\n",
       "    </tr>\n",
       "  </thead>\n",
       "  <tbody>\n",
       "    <tr>\n",
       "      <th>0</th>\n",
       "      <td>3</td>\n",
       "      <td>2</td>\n",
       "      <td>30</td>\n",
       "      <td>30</td>\n",
       "      <td>28</td>\n",
       "      <td>9590</td>\n",
       "      <td>3359</td>\n",
       "      <td>1067</td>\n",
       "      <td>7036</td>\n",
       "      <td>20</td>\n",
       "      <td>8855</td>\n",
       "      <td>1511</td>\n",
       "      <td>2975</td>\n",
       "      <td>52</td>\n",
       "      <td>7152</td>\n",
       "      <td>1</td>\n",
       "      <td>0</td>\n",
       "      <td>0</td>\n",
       "      <td>6</td>\n",
       "      <td>171</td>\n",
       "      <td>52</td>\n",
       "      <td>43</td>\n",
       "      <td>21</td>\n",
       "      <td>6</td>\n",
       "      <td>0</td>\n",
       "      <td>427</td>\n",
       "      <td>464</td>\n",
       "      <td>464</td>\n",
       "      <td>37</td>\n",
       "      <td>10</td>\n",
       "      <td>4080</td>\n",
       "      <td>352</td>\n",
       "      <td>3</td>\n",
       "      <td>1</td>\n",
       "      <td>10000</td>\n",
       "      <td>1</td>\n",
       "      <td>2</td>\n",
       "      <td>2</td>\n",
       "      <td>4</td>\n",
       "      <td>529</td>\n",
       "      <td>1306</td>\n",
       "      <td>553</td>\n",
       "      <td>2</td>\n",
       "      <td>4</td>\n",
       "      <td>166</td>\n",
       "      <td>356</td>\n",
       "      <td>209</td>\n",
       "      <td>2</td>\n",
       "      <td>3</td>\n",
       "      <td>102</td>\n",
       "      <td>185</td>\n",
       "      <td>112</td>\n",
       "      <td>2</td>\n",
       "      <td>3</td>\n",
       "      <td>47</td>\n",
       "      <td>66</td>\n",
       "      <td>39</td>\n",
       "      <td>1</td>\n",
       "      <td>3</td>\n",
       "      <td>19</td>\n",
       "      <td>26</td>\n",
       "      <td>13</td>\n",
       "      <td>1</td>\n",
       "      <td>1</td>\n",
       "      <td>1</td>\n",
       "    </tr>\n",
       "    <tr>\n",
       "      <th>1</th>\n",
       "      <td>3</td>\n",
       "      <td>4</td>\n",
       "      <td>1108</td>\n",
       "      <td>1123</td>\n",
       "      <td>363</td>\n",
       "      <td>385</td>\n",
       "      <td>253</td>\n",
       "      <td>81</td>\n",
       "      <td>343</td>\n",
       "      <td>5</td>\n",
       "      <td>5438</td>\n",
       "      <td>1216</td>\n",
       "      <td>1637</td>\n",
       "      <td>52</td>\n",
       "      <td>2864</td>\n",
       "      <td>3</td>\n",
       "      <td>2</td>\n",
       "      <td>3</td>\n",
       "      <td>5</td>\n",
       "      <td>73</td>\n",
       "      <td>39</td>\n",
       "      <td>4</td>\n",
       "      <td>0</td>\n",
       "      <td>0</td>\n",
       "      <td>0</td>\n",
       "      <td>240</td>\n",
       "      <td>279</td>\n",
       "      <td>282</td>\n",
       "      <td>32</td>\n",
       "      <td>17</td>\n",
       "      <td>5853</td>\n",
       "      <td>319</td>\n",
       "      <td>2</td>\n",
       "      <td>1</td>\n",
       "      <td>10000</td>\n",
       "      <td>2</td>\n",
       "      <td>2</td>\n",
       "      <td>2</td>\n",
       "      <td>4</td>\n",
       "      <td>284</td>\n",
       "      <td>709</td>\n",
       "      <td>366</td>\n",
       "      <td>2</td>\n",
       "      <td>3</td>\n",
       "      <td>26</td>\n",
       "      <td>38</td>\n",
       "      <td>18</td>\n",
       "      <td>1</td>\n",
       "      <td>3</td>\n",
       "      <td>16</td>\n",
       "      <td>20</td>\n",
       "      <td>8</td>\n",
       "      <td>1</td>\n",
       "      <td>3</td>\n",
       "      <td>9</td>\n",
       "      <td>10</td>\n",
       "      <td>2</td>\n",
       "      <td>1</td>\n",
       "      <td>3</td>\n",
       "      <td>6</td>\n",
       "      <td>7</td>\n",
       "      <td>2</td>\n",
       "      <td>1</td>\n",
       "      <td>1</td>\n",
       "      <td>1</td>\n",
       "    </tr>\n",
       "  </tbody>\n",
       "</table>\n",
       "</div>"
      ],
      "text/plain": [
       "                  Change_Type  Covered_Recipient_Type  Teaching_Hospital_CCN  \\\n",
       "research_payment                                                               \n",
       "0                           3                       2                     30   \n",
       "1                           3                       4                   1108   \n",
       "\n",
       "                  Teaching_Hospital_ID  Teaching_Hospital_Name  \\\n",
       "research_payment                                                 \n",
       "0                                   30                      28   \n",
       "1                                 1123                     363   \n",
       "\n",
       "                  Physician_Profile_ID  Physician_First_Name  \\\n",
       "research_payment                                               \n",
       "0                                 9590                  3359   \n",
       "1                                  385                   253   \n",
       "\n",
       "                  Physician_Middle_Name  Physician_Last_Name  \\\n",
       "research_payment                                               \n",
       "0                                  1067                 7036   \n",
       "1                                    81                  343   \n",
       "\n",
       "                  Physician_Name_Suffix  \\\n",
       "research_payment                          \n",
       "0                                    20   \n",
       "1                                     5   \n",
       "\n",
       "                  Recipient_Primary_Business_Street_Address_Line1  \\\n",
       "research_payment                                                    \n",
       "0                                                            8855   \n",
       "1                                                            5438   \n",
       "\n",
       "                  Recipient_Primary_Business_Street_Address_Line2  \\\n",
       "research_payment                                                    \n",
       "0                                                            1511   \n",
       "1                                                            1216   \n",
       "\n",
       "                  Recipient_City  Recipient_State  Recipient_Zip_Code  \\\n",
       "research_payment                                                        \n",
       "0                           2975               52                7152   \n",
       "1                           1637               52                2864   \n",
       "\n",
       "                  Recipient_Country  Recipient_Province  \\\n",
       "research_payment                                          \n",
       "0                                 1                   0   \n",
       "1                                 3                   2   \n",
       "\n",
       "                  Recipient_Postal_Code  Physician_Primary_Type  \\\n",
       "research_payment                                                  \n",
       "0                                     0                       6   \n",
       "1                                     3                       5   \n",
       "\n",
       "                  Physician_Specialty  Physician_License_State_code1  \\\n",
       "research_payment                                                       \n",
       "0                                 171                             52   \n",
       "1                                  73                             39   \n",
       "\n",
       "                  Physician_License_State_code2  \\\n",
       "research_payment                                  \n",
       "0                                            43   \n",
       "1                                             4   \n",
       "\n",
       "                  Physician_License_State_code3  \\\n",
       "research_payment                                  \n",
       "0                                            21   \n",
       "1                                             0   \n",
       "\n",
       "                  Physician_License_State_code4  \\\n",
       "research_payment                                  \n",
       "0                                             6   \n",
       "1                                             0   \n",
       "\n",
       "                  Physician_License_State_code5  \\\n",
       "research_payment                                  \n",
       "0                                             0   \n",
       "1                                             0   \n",
       "\n",
       "                  Submitting_Applicable_Manufacturer_or_Applicable_GPO_Name  \\\n",
       "research_payment                                                              \n",
       "0                                                               427           \n",
       "1                                                               240           \n",
       "\n",
       "                  Applicable_Manufacturer_or_Applicable_GPO_Making_Payment_ID  \\\n",
       "research_payment                                                                \n",
       "0                                                               464             \n",
       "1                                                               279             \n",
       "\n",
       "                  Applicable_Manufacturer_or_Applicable_GPO_Making_Payment_Name  \\\n",
       "research_payment                                                                  \n",
       "0                                                               464               \n",
       "1                                                               282               \n",
       "\n",
       "                  Applicable_Manufacturer_or_Applicable_GPO_Making_Payment_State  \\\n",
       "research_payment                                                                   \n",
       "0                                                                37                \n",
       "1                                                                32                \n",
       "\n",
       "                  Applicable_Manufacturer_or_Applicable_GPO_Making_Payment_Country  \\\n",
       "research_payment                                                                     \n",
       "0                                                                10                  \n",
       "1                                                                17                  \n",
       "\n",
       "                  Total_Amount_of_Payment_USDollars  Date_of_Payment  \\\n",
       "research_payment                                                       \n",
       "0                                              4080              352   \n",
       "1                                              5853              319   \n",
       "\n",
       "                  Form_of_Payment_or_Transfer_of_Value  \\\n",
       "research_payment                                         \n",
       "0                                                    3   \n",
       "1                                                    2   \n",
       "\n",
       "                  Delay_in_Publication_Indicator  Record_ID  \\\n",
       "research_payment                                              \n",
       "0                                              1      10000   \n",
       "1                                              1      10000   \n",
       "\n",
       "                  Dispute_Status_for_Publication  Related_Product_Indicator  \\\n",
       "research_payment                                                              \n",
       "0                                              1                          2   \n",
       "1                                              2                          2   \n",
       "\n",
       "                  Covered_or_Noncovered_Indicator_1  \\\n",
       "research_payment                                      \n",
       "0                                                 2   \n",
       "1                                                 2   \n",
       "\n",
       "                  Indicate_Drug_or_Biological_or_Device_or_Medical_Supply_1  \\\n",
       "research_payment                                                              \n",
       "0                                                                 4           \n",
       "1                                                                 4           \n",
       "\n",
       "                  Product_Category_or_Therapeutic_Area_1  \\\n",
       "research_payment                                           \n",
       "0                                                    529   \n",
       "1                                                    284   \n",
       "\n",
       "                  Name_of_Drug_or_Biological_or_Device_or_Medical_Supply_1  \\\n",
       "research_payment                                                             \n",
       "0                                                              1306          \n",
       "1                                                               709          \n",
       "\n",
       "                  Associated_Drug_or_Biological_NDC_1  \\\n",
       "research_payment                                        \n",
       "0                                                 553   \n",
       "1                                                 366   \n",
       "\n",
       "                  Covered_or_Noncovered_Indicator_2  \\\n",
       "research_payment                                      \n",
       "0                                                 2   \n",
       "1                                                 2   \n",
       "\n",
       "                  Indicate_Drug_or_Biological_or_Device_or_Medical_Supply_2  \\\n",
       "research_payment                                                              \n",
       "0                                                                 4           \n",
       "1                                                                 3           \n",
       "\n",
       "                  Product_Category_or_Therapeutic_Area_2  \\\n",
       "research_payment                                           \n",
       "0                                                    166   \n",
       "1                                                     26   \n",
       "\n",
       "                  Name_of_Drug_or_Biological_or_Device_or_Medical_Supply_2  \\\n",
       "research_payment                                                             \n",
       "0                                                               356          \n",
       "1                                                                38          \n",
       "\n",
       "                  Associated_Drug_or_Biological_NDC_2  \\\n",
       "research_payment                                        \n",
       "0                                                 209   \n",
       "1                                                  18   \n",
       "\n",
       "                  Covered_or_Noncovered_Indicator_3  \\\n",
       "research_payment                                      \n",
       "0                                                 2   \n",
       "1                                                 1   \n",
       "\n",
       "                  Indicate_Drug_or_Biological_or_Device_or_Medical_Supply_3  \\\n",
       "research_payment                                                              \n",
       "0                                                                 3           \n",
       "1                                                                 3           \n",
       "\n",
       "                  Product_Category_or_Therapeutic_Area_3  \\\n",
       "research_payment                                           \n",
       "0                                                    102   \n",
       "1                                                     16   \n",
       "\n",
       "                  Name_of_Drug_or_Biological_or_Device_or_Medical_Supply_3  \\\n",
       "research_payment                                                             \n",
       "0                                                               185          \n",
       "1                                                                20          \n",
       "\n",
       "                  Associated_Drug_or_Biological_NDC_3  \\\n",
       "research_payment                                        \n",
       "0                                                 112   \n",
       "1                                                   8   \n",
       "\n",
       "                  Covered_or_Noncovered_Indicator_4  \\\n",
       "research_payment                                      \n",
       "0                                                 2   \n",
       "1                                                 1   \n",
       "\n",
       "                  Indicate_Drug_or_Biological_or_Device_or_Medical_Supply_4  \\\n",
       "research_payment                                                              \n",
       "0                                                                 3           \n",
       "1                                                                 3           \n",
       "\n",
       "                  Product_Category_or_Therapeutic_Area_4  \\\n",
       "research_payment                                           \n",
       "0                                                     47   \n",
       "1                                                      9   \n",
       "\n",
       "                  Name_of_Drug_or_Biological_or_Device_or_Medical_Supply_4  \\\n",
       "research_payment                                                             \n",
       "0                                                                66          \n",
       "1                                                                10          \n",
       "\n",
       "                  Associated_Drug_or_Biological_NDC_4  \\\n",
       "research_payment                                        \n",
       "0                                                  39   \n",
       "1                                                   2   \n",
       "\n",
       "                  Covered_or_Noncovered_Indicator_5  \\\n",
       "research_payment                                      \n",
       "0                                                 1   \n",
       "1                                                 1   \n",
       "\n",
       "                  Indicate_Drug_or_Biological_or_Device_or_Medical_Supply_5  \\\n",
       "research_payment                                                              \n",
       "0                                                                 3           \n",
       "1                                                                 3           \n",
       "\n",
       "                  Product_Category_or_Therapeutic_Area_5  \\\n",
       "research_payment                                           \n",
       "0                                                     19   \n",
       "1                                                      6   \n",
       "\n",
       "                  Name_of_Drug_or_Biological_or_Device_or_Medical_Supply_5  \\\n",
       "research_payment                                                             \n",
       "0                                                                26          \n",
       "1                                                                 7          \n",
       "\n",
       "                  Associated_Drug_or_Biological_NDC_5  Program_Year  \\\n",
       "research_payment                                                      \n",
       "0                                                  13             1   \n",
       "1                                                   2             1   \n",
       "\n",
       "                  Payment_Publication_Date  research_payment  \n",
       "research_payment                                              \n",
       "0                                        1                 1  \n",
       "1                                        1                 1  "
      ]
     },
     "execution_count": 208,
     "metadata": {},
     "output_type": "execute_result"
    }
   ],
   "source": [
    "df.groupby('research_payment').nunique()"
   ]
  },
  {
   "cell_type": "markdown",
   "metadata": {},
   "source": [
    "We can remove Record_ID as that's a unique identifier of each observation."
   ]
  },
  {
   "cell_type": "code",
   "execution_count": 209,
   "metadata": {},
   "outputs": [],
   "source": [
    "cols_drop = ['Record_ID']"
   ]
  },
  {
   "cell_type": "markdown",
   "metadata": {},
   "source": [
    "Variables that have the same unique value for both research and non-research payments can be considered as irrelevant and be dropped."
   ]
  },
  {
   "cell_type": "code",
   "execution_count": 210,
   "metadata": {},
   "outputs": [],
   "source": [
    "for v in df.columns.values[:-1]:\n",
    "    if len(df[v].unique()) == 1:\n",
    "        cols_drop.append(v)\n",
    "\n",
    "df.drop(cols_drop, axis=1, inplace=True)"
   ]
  },
  {
   "cell_type": "markdown",
   "metadata": {},
   "source": [
    "Variables that have only one value for either of the two types of payments should be investigated further. "
   ]
  },
  {
   "cell_type": "code",
   "execution_count": 211,
   "metadata": {},
   "outputs": [
    {
     "data": {
      "image/png": "[encoded data removed]",
      "text/plain": [
       "<Figure size 1440x360 with 6 Axes>"
      ]
     },
     "metadata": {
      "needs_background": "light"
     },
     "output_type": "display_data"
    }
   ],
   "source": [
    "cols_drop = []\n",
    "for v in df.columns.values[:-1]:\n",
    "    for i in range(2):\n",
    "        if len(df[df['research_payment'] == i][v].unique()) == 1:\n",
    "            if v not in cols_drop: cols_drop.append(v)\n",
    "\n",
    "                \n",
    "fig, ax = plt.subplots(1, len(cols_drop), figsize = (20, 5))\n",
    "i=0\n",
    "for v in cols_drop:\n",
    "    sns.countplot(v, hue='research_payment', data = df, ax = ax[i])\n",
    "    i+=1\n",
    "\n",
    "plt.tight_layout()"
   ]
  },
  {
   "cell_type": "code",
   "execution_count": 212,
   "metadata": {},
   "outputs": [],
   "source": [
    "df.drop(cols_drop, axis=1, inplace=True)"
   ]
  },
  {
   "cell_type": "markdown",
   "metadata": {},
   "source": [
    "#### Sparse Variables\n",
    "\n",
    "A big portion of our features don't have any data for one of the targets. "
   ]
  },
  {
   "cell_type": "code",
   "execution_count": 213,
   "metadata": {},
   "outputs": [
    {
     "data": {
      "image/png": "[encoded data removed]",
      "text/plain": [
       "<Figure size 1440x1152 with 19 Axes>"
      ]
     },
     "metadata": {
      "needs_background": "light"
     },
     "output_type": "display_data"
    }
   ],
   "source": [
    "df_missing = df.copy()\n",
    "for c in df_missing.columns[:-1]:\n",
    "    df_missing[c] = np.where(df_missing[c].isnull(), 'Missing', 'Not Missing')\n",
    "\n",
    "fig, ax = plt.subplots(4, 5, figsize = (20, 16), sharey='row')\n",
    "cols_drop = []\n",
    "# axis indicators\n",
    "i = 0\n",
    "j = 0\n",
    "\n",
    "for v in df_missing.columns.values[:-1]:\n",
    "    if df_missing[df_missing[v] == 'Missing'].shape[0] > (df_missing.shape[0] * 0.9):\n",
    "        sns.countplot(v, hue='research_payment', data = df_missing, ax=ax[j, i])\n",
    "        cols_drop.append(v)\n",
    "        # increment axis\n",
    "        i += 1\n",
    "        if i == 5: j += 1; i = 0\n",
    "        \n",
    "        \n",
    "fig.delaxes(ax[3, 4])\n",
    "plt.tight_layout()\n",
    "plt.show()"
   ]
  },
  {
   "cell_type": "code",
   "execution_count": 214,
   "metadata": {},
   "outputs": [],
   "source": [
    "cols_drop.remove('Teaching_Hospital_ID')\n",
    "df.drop(cols_drop, axis=1, inplace=True)"
   ]
  },
  {
   "cell_type": "markdown",
   "metadata": {},
   "source": [
    "####  Leaky Variables"
   ]
  },
  {
   "cell_type": "code",
   "execution_count": 215,
   "metadata": {},
   "outputs": [
    {
     "data": {
      "image/png": "[encoded data removed]",
      "text/plain": [
       "<Figure size 1440x1080 with 12 Axes>"
      ]
     },
     "metadata": {
      "needs_background": "light"
     },
     "output_type": "display_data"
    }
   ],
   "source": [
    "fig, ax = plt.subplots(3, 4, figsize=(20, 15))\n",
    "i = 0\n",
    "j = 0\n",
    "\n",
    "for c in df.columns.values[:-1]:\n",
    "    if (len(df[c].unique()) <= 10) | (df[c].dtype != object):\n",
    "        sns.scatterplot(x=c, y='research_payment', data=df, ax=ax[j, i])\n",
    "        \n",
    "        i+=1\n",
    "        if i == 4: j+=1; i=0\n",
    "        \n",
    "plt.tight_layout()\n",
    "plt.show()"
   ]
  },
  {
   "cell_type": "markdown",
   "metadata": {},
   "source": [
    "Judging by the plots above, the variables Covered_Recipient_Type, Physician_Primary_Type and Form_of_Payment_or_Transfer_of_Value could be leaking the target. It's important to investigate these further before proceeding.\n",
    "\n",
    "**Covered_Recipient_Type**"
   ]
  },
  {
   "cell_type": "code",
   "execution_count": 216,
   "metadata": {},
   "outputs": [
    {
     "data": {
      "text/html": [
       "<div>\n",
       "<style scoped>\n",
       "    .dataframe tbody tr th:only-of-type {\n",
       "        vertical-align: middle;\n",
       "    }\n",
       "\n",
       "    .dataframe tbody tr th {\n",
       "        vertical-align: top;\n",
       "    }\n",
       "\n",
       "    .dataframe thead th {\n",
       "        text-align: right;\n",
       "    }\n",
       "</style>\n",
       "<table border=\"1\" class=\"dataframe\">\n",
       "  <thead>\n",
       "    <tr style=\"text-align: right;\">\n",
       "      <th></th>\n",
       "      <th>research_payment</th>\n",
       "      <th>Covered_Recipient_Type</th>\n",
       "      <th>0</th>\n",
       "    </tr>\n",
       "  </thead>\n",
       "  <tbody>\n",
       "    <tr>\n",
       "      <th>0</th>\n",
       "      <td>0</td>\n",
       "      <td>Covered Recipient Physician</td>\n",
       "      <td>9970</td>\n",
       "    </tr>\n",
       "    <tr>\n",
       "      <th>1</th>\n",
       "      <td>0</td>\n",
       "      <td>Covered Recipient Teaching Hospital</td>\n",
       "      <td>30</td>\n",
       "    </tr>\n",
       "    <tr>\n",
       "      <th>2</th>\n",
       "      <td>1</td>\n",
       "      <td>Covered Recipient Physician</td>\n",
       "      <td>394</td>\n",
       "    </tr>\n",
       "    <tr>\n",
       "      <th>3</th>\n",
       "      <td>1</td>\n",
       "      <td>Covered Recipient Teaching Hospital</td>\n",
       "      <td>1612</td>\n",
       "    </tr>\n",
       "    <tr>\n",
       "      <th>4</th>\n",
       "      <td>1</td>\n",
       "      <td>Non-covered Recipient Entity</td>\n",
       "      <td>7983</td>\n",
       "    </tr>\n",
       "    <tr>\n",
       "      <th>5</th>\n",
       "      <td>1</td>\n",
       "      <td>Non-covered Recipient Individual</td>\n",
       "      <td>11</td>\n",
       "    </tr>\n",
       "  </tbody>\n",
       "</table>\n",
       "</div>"
      ],
      "text/plain": [
       "   research_payment               Covered_Recipient_Type     0\n",
       "0                 0          Covered Recipient Physician  9970\n",
       "1                 0  Covered Recipient Teaching Hospital    30\n",
       "2                 1          Covered Recipient Physician   394\n",
       "3                 1  Covered Recipient Teaching Hospital  1612\n",
       "4                 1         Non-covered Recipient Entity  7983\n",
       "5                 1     Non-covered Recipient Individual    11"
      ]
     },
     "execution_count": 216,
     "metadata": {},
     "output_type": "execute_result"
    }
   ],
   "source": [
    "df.groupby(['research_payment', 'Covered_Recipient_Type']).size().reset_index()"
   ]
  },
  {
   "cell_type": "markdown",
   "metadata": {},
   "source": [
    "Given that the proportions are very different for each of our targets, this raises further suspicions. General payments are only made to covered recipients so we can remove this variable as it's better to be safe than sorry. "
   ]
  },
  {
   "cell_type": "code",
   "execution_count": 217,
   "metadata": {},
   "outputs": [],
   "source": [
    "df.drop('Covered_Recipient_Type', axis=1, inplace=True)"
   ]
  },
  {
   "cell_type": "markdown",
   "metadata": {},
   "source": [
    "**Physician_Primary_Type**"
   ]
  },
  {
   "cell_type": "code",
   "execution_count": 218,
   "metadata": {},
   "outputs": [
    {
     "data": {
      "text/html": [
       "<div>\n",
       "<style scoped>\n",
       "    .dataframe tbody tr th:only-of-type {\n",
       "        vertical-align: middle;\n",
       "    }\n",
       "\n",
       "    .dataframe tbody tr th {\n",
       "        vertical-align: top;\n",
       "    }\n",
       "\n",
       "    .dataframe thead th {\n",
       "        text-align: right;\n",
       "    }\n",
       "</style>\n",
       "<table border=\"1\" class=\"dataframe\">\n",
       "  <thead>\n",
       "    <tr style=\"text-align: right;\">\n",
       "      <th></th>\n",
       "      <th>research_payment</th>\n",
       "      <th>Physician_Primary_Type</th>\n",
       "      <th>0</th>\n",
       "    </tr>\n",
       "  </thead>\n",
       "  <tbody>\n",
       "    <tr>\n",
       "      <th>0</th>\n",
       "      <td>0</td>\n",
       "      <td>Chiropractor</td>\n",
       "      <td>1</td>\n",
       "    </tr>\n",
       "    <tr>\n",
       "      <th>1</th>\n",
       "      <td>0</td>\n",
       "      <td>Doctor of Dentistry</td>\n",
       "      <td>281</td>\n",
       "    </tr>\n",
       "    <tr>\n",
       "      <th>2</th>\n",
       "      <td>0</td>\n",
       "      <td>Doctor of Optometry</td>\n",
       "      <td>212</td>\n",
       "    </tr>\n",
       "    <tr>\n",
       "      <th>3</th>\n",
       "      <td>0</td>\n",
       "      <td>Doctor of Osteopathy</td>\n",
       "      <td>869</td>\n",
       "    </tr>\n",
       "    <tr>\n",
       "      <th>4</th>\n",
       "      <td>0</td>\n",
       "      <td>Doctor of Podiatric Medicine</td>\n",
       "      <td>109</td>\n",
       "    </tr>\n",
       "    <tr>\n",
       "      <th>5</th>\n",
       "      <td>0</td>\n",
       "      <td>Medical Doctor</td>\n",
       "      <td>8498</td>\n",
       "    </tr>\n",
       "    <tr>\n",
       "      <th>6</th>\n",
       "      <td>1</td>\n",
       "      <td>Doctor of Dentistry</td>\n",
       "      <td>5</td>\n",
       "    </tr>\n",
       "    <tr>\n",
       "      <th>7</th>\n",
       "      <td>1</td>\n",
       "      <td>Doctor of Optometry</td>\n",
       "      <td>6</td>\n",
       "    </tr>\n",
       "    <tr>\n",
       "      <th>8</th>\n",
       "      <td>1</td>\n",
       "      <td>Doctor of Osteopathy</td>\n",
       "      <td>16</td>\n",
       "    </tr>\n",
       "    <tr>\n",
       "      <th>9</th>\n",
       "      <td>1</td>\n",
       "      <td>Doctor of Podiatric Medicine</td>\n",
       "      <td>4</td>\n",
       "    </tr>\n",
       "    <tr>\n",
       "      <th>10</th>\n",
       "      <td>1</td>\n",
       "      <td>Medical Doctor</td>\n",
       "      <td>363</td>\n",
       "    </tr>\n",
       "  </tbody>\n",
       "</table>\n",
       "</div>"
      ],
      "text/plain": [
       "    research_payment        Physician_Primary_Type     0\n",
       "0                  0                  Chiropractor     1\n",
       "1                  0           Doctor of Dentistry   281\n",
       "2                  0           Doctor of Optometry   212\n",
       "3                  0          Doctor of Osteopathy   869\n",
       "4                  0  Doctor of Podiatric Medicine   109\n",
       "5                  0                Medical Doctor  8498\n",
       "6                  1           Doctor of Dentistry     5\n",
       "7                  1           Doctor of Optometry     6\n",
       "8                  1          Doctor of Osteopathy    16\n",
       "9                  1  Doctor of Podiatric Medicine     4\n",
       "10                 1                Medical Doctor   363"
      ]
     },
     "execution_count": 218,
     "metadata": {},
     "output_type": "execute_result"
    }
   ],
   "source": [
    "df.groupby(['research_payment', 'Physician_Primary_Type']).size().reset_index()"
   ]
  },
  {
   "cell_type": "markdown",
   "metadata": {},
   "source": [
    "The proportions here also raise an eye, but the values don't seem to give away the target.\n",
    "\n",
    "**Form_of_Payment_or_Transfer_of_Value**"
   ]
  },
  {
   "cell_type": "code",
   "execution_count": 219,
   "metadata": {},
   "outputs": [
    {
     "data": {
      "text/html": [
       "<div>\n",
       "<style scoped>\n",
       "    .dataframe tbody tr th:only-of-type {\n",
       "        vertical-align: middle;\n",
       "    }\n",
       "\n",
       "    .dataframe tbody tr th {\n",
       "        vertical-align: top;\n",
       "    }\n",
       "\n",
       "    .dataframe thead th {\n",
       "        text-align: right;\n",
       "    }\n",
       "</style>\n",
       "<table border=\"1\" class=\"dataframe\">\n",
       "  <thead>\n",
       "    <tr style=\"text-align: right;\">\n",
       "      <th></th>\n",
       "      <th>research_payment</th>\n",
       "      <th>Form_of_Payment_or_Transfer_of_Value</th>\n",
       "      <th>0</th>\n",
       "    </tr>\n",
       "  </thead>\n",
       "  <tbody>\n",
       "    <tr>\n",
       "      <th>0</th>\n",
       "      <td>0</td>\n",
       "      <td>Cash or cash equivalent</td>\n",
       "      <td>1539</td>\n",
       "    </tr>\n",
       "    <tr>\n",
       "      <th>1</th>\n",
       "      <td>0</td>\n",
       "      <td>Dividend, profit or other return on investment</td>\n",
       "      <td>1</td>\n",
       "    </tr>\n",
       "    <tr>\n",
       "      <th>2</th>\n",
       "      <td>0</td>\n",
       "      <td>In-kind items and services</td>\n",
       "      <td>8460</td>\n",
       "    </tr>\n",
       "    <tr>\n",
       "      <th>3</th>\n",
       "      <td>1</td>\n",
       "      <td>Cash or cash equivalent</td>\n",
       "      <td>7892</td>\n",
       "    </tr>\n",
       "    <tr>\n",
       "      <th>4</th>\n",
       "      <td>1</td>\n",
       "      <td>In-kind items and services</td>\n",
       "      <td>2108</td>\n",
       "    </tr>\n",
       "  </tbody>\n",
       "</table>\n",
       "</div>"
      ],
      "text/plain": [
       "   research_payment            Form_of_Payment_or_Transfer_of_Value     0\n",
       "0                 0                         Cash or cash equivalent  1539\n",
       "1                 0  Dividend, profit or other return on investment     1\n",
       "2                 0                      In-kind items and services  8460\n",
       "3                 1                         Cash or cash equivalent  7892\n",
       "4                 1                      In-kind items and services  2108"
      ]
     },
     "execution_count": 219,
     "metadata": {},
     "output_type": "execute_result"
    }
   ],
   "source": [
    "df.groupby(['research_payment', 'Form_of_Payment_or_Transfer_of_Value']).size().reset_index()"
   ]
  },
  {
   "cell_type": "markdown",
   "metadata": {},
   "source": [
    "Again, the proportions are very different for each payment type but it doesn't seem to be a dead giveaway. "
   ]
  },
  {
   "cell_type": "markdown",
   "metadata": {},
   "source": [
    "#### Irrelevant Variables\n",
    "\n",
    "After a quick scan of the remaining variables, we can remove those that don't or at least shouldn't have anything to do with the target. "
   ]
  },
  {
   "cell_type": "code",
   "execution_count": 220,
   "metadata": {},
   "outputs": [],
   "source": [
    "cols_drop = ['Physician_First_Name', 'Physician_Middle_Name', 'Recipient_Primary_Business_Street_Address_Line2']\n",
    "df.drop(cols_drop, axis=1, inplace=True)"
   ]
  },
  {
   "cell_type": "markdown",
   "metadata": {},
   "source": [
    "#### Renaming our Variables"
   ]
  },
  {
   "cell_type": "code",
   "execution_count": 221,
   "metadata": {},
   "outputs": [],
   "source": [
    "df = df.rename(index=str, columns={'Teaching_Hospital_ID': 'hospital',\n",
    "                                 'Physician_Profile_ID': 'phy_ID',\n",
    "                                 'Physician_First_Name': 'phy_first_name',\n",
    "                                 'Physician_Last_Name': 'phy_last_name',\n",
    "                                 'Recipient_Primary_Business_Street_Address_Line1': 'address',\n",
    "                                 'Recipient_City': 'city',\n",
    "                                 'Recipient_State': 'state',\n",
    "                                 'Recipient_Zip_Code': 'zip_code',\n",
    "                                 'Physician_Primary_Type': 'phy_primary_type',\n",
    "                                 'Physician_Specialty': 'phy_specialty', \n",
    "                                 'Physician_License_State_code1': 'phy_state',\n",
    "                                 'Submitting_Applicable_Manufacturer_or_Applicable_GPO_Name': 'submitting_GPO_name',\n",
    "                                 'Applicable_Manufacturer_or_Applicable_GPO_Making_Payment_Name': 'paying_GPO_name',\n",
    "                                 'Applicable_Manufacturer_or_Applicable_GPO_Making_Payment_State': 'paying_GPO_state',\n",
    "                                 'Applicable_Manufacturer_or_Applicable_GPO_Making_Payment_Country': 'paying_GPO_country',\n",
    "                                 'Applicable_Manufacturer_or_Applicable_GPO_Making_Payment_ID': 'paying_GPO_ID',\n",
    "                                 'Total_Amount_of_Payment_USDollars': 'payment_amount',\n",
    "                                 'Date_of_Payment': 'payment_date',\n",
    "                                 'Form_of_Payment_or_Transfer_of_Value': 'payment_form',\n",
    "                                 'Covered_or_Noncovered_Indicator_1': 'product1_covered',\n",
    "                                 'Indicate_Drug_or_Biological_or_Device_or_Medical_Supply_1': 'product1_type',\n",
    "                                 'Product_Category_or_Therapeutic_Area_1': 'product1_category',\n",
    "                                 'Name_of_Drug_or_Biological_or_Device_or_Medical_Supply_1': 'product1_name',\n",
    "                                 'Associated_Drug_or_Biological_NDC_1': 'product1_associated',\n",
    "                                 'Covered_or_Noncovered_Indicator_2': 'product2_covered',\n",
    "                                 'Indicate_Drug_or_Biological_or_Device_or_Medical_Supply_2': 'product2_type',\n",
    "                                 'Product_Category_or_Therapeutic_Area_2': 'product2_category',\n",
    "                                 'Name_of_Drug_or_Biological_or_Device_or_Medical_Supply_2': 'product2_name',\n",
    "                                 'Associated_Drug_or_Biological_NDC_2': 'product2_associated'})"
   ]
  },
  {
   "cell_type": "markdown",
   "metadata": {},
   "source": [
    "## Task 2: Preprocessing and baseline model"
   ]
  },
  {
   "cell_type": "markdown",
   "metadata": {},
   "source": [
    "For the simple minimum viable model, we've decided to do logistic regression with a very limited number of features. The filter we've applied to features is the following (those are very \"harsh\" filters but again, this is a baseline model).\n",
    "* Drop all features with more than 10% missing data (considered \"sparse\")\n",
    "* Drop all categorical features with too many categories since we're going to one-hot encode them. We've chosen 200 (1% of the number of data points) as a threshold"
   ]
  },
  {
   "cell_type": "code",
   "execution_count": 222,
   "metadata": {},
   "outputs": [
    {
     "data": {
      "text/plain": [
       "Index(['Change_Type', 'state', 'paying_GPO_ID', 'paying_GPO_state',\n",
       "       'paying_GPO_country', 'payment_amount', 'payment_date', 'payment_form',\n",
       "       'Related_Product_Indicator', 'product1_covered', 'research_payment'],\n",
       "      dtype='object')"
      ]
     },
     "execution_count": 222,
     "metadata": {},
     "output_type": "execute_result"
    }
   ],
   "source": [
    "cols_drop2 = list(df.columns[df.isnull().sum() > 0.1*df.shape[0]])\n",
    "cats = df.columns[df.dtypes == object]\n",
    "cols_drop2.extend(cats[df[cats].nunique() > 0.01*df.shape[0]])\n",
    "df2 = df.drop(set(cols_drop2), axis=1)\n",
    "df2.columns"
   ]
  },
  {
   "cell_type": "markdown",
   "metadata": {},
   "source": [
    "As we can see, we're left with only a few features, only one of which is continuous. We can now set up a baseline model, with basic preprocessing: we're only going to one-hot encode the categorical variables.\n",
    "\n",
    "We assign the \"missing\" category to missing values in categorical variables (such treatment normally shouldn't be done on X directly, but here it doesn't imply data leakage so it's OK). No treatment is needed for the continuous variable since it has no missing value. We then split training and test set.\n",
    "\n",
    "We also need to change y to -1 and 1."
   ]
  },
  {
   "cell_type": "code",
   "execution_count": 223,
   "metadata": {},
   "outputs": [],
   "source": [
    "X = df2.drop('research_payment', axis=1)\n",
    "y = df2['research_payment']\n",
    "\n",
    "X_cats = X.columns[X.dtypes == object].tolist()\n",
    "dict_missing = {i: 'Missing' for i in X_cats}\n",
    "X.fillna(dict_missing, inplace=True)\n",
    "\n",
    "y = y.astype(int)*2 - 1\n",
    "\n",
    "X_train, X_test, y_train, y_test = train_test_split(X,y)"
   ]
  },
  {
   "cell_type": "code",
   "execution_count": 224,
   "metadata": {},
   "outputs": [
    {
     "data": {
      "text/plain": [
       "0.930672394558331"
      ]
     },
     "execution_count": 224,
     "metadata": {},
     "output_type": "execute_result"
    }
   ],
   "source": [
    "ohe = OneHotEncoder(categories=\"auto\", handle_unknown = 'ignore')\n",
    "logr = LogisticRegression()\n",
    "prep = ColumnTransformer([(\"one-hot encoding\", ohe, X_cats)])\n",
    "pipe = Pipeline([('preprocessing', prep), ('logreg', logr)])\n",
    "np.mean(cross_val_score(pipe, X_train, y_train, cv=10, scoring='roc_auc'))"
   ]
  },
  {
   "cell_type": "code",
   "execution_count": 225,
   "metadata": {},
   "outputs": [
    {
     "data": {
      "text/plain": [
       "0.8652"
      ]
     },
     "execution_count": 225,
     "metadata": {},
     "output_type": "execute_result"
    }
   ],
   "source": [
    "pipe.fit(X_train, y_train)\n",
    "pipe.score(X_test, y_test)"
   ]
  },
  {
   "cell_type": "markdown",
   "metadata": {},
   "source": [
    "## Task 3: Feature Engineering\n",
    "\n",
    "Building on a lot of the feature analysis done above, we can engineer our variables with a finer detail to enhance our model performance. "
   ]
  },
  {
   "cell_type": "code",
   "execution_count": 226,
   "metadata": {},
   "outputs": [
    {
     "data": {
      "text/html": [
       "<div>\n",
       "<style scoped>\n",
       "    .dataframe tbody tr th:only-of-type {\n",
       "        vertical-align: middle;\n",
       "    }\n",
       "\n",
       "    .dataframe tbody tr th {\n",
       "        vertical-align: top;\n",
       "    }\n",
       "\n",
       "    .dataframe thead th {\n",
       "        text-align: right;\n",
       "    }\n",
       "</style>\n",
       "<table border=\"1\" class=\"dataframe\">\n",
       "  <thead>\n",
       "    <tr style=\"text-align: right;\">\n",
       "      <th></th>\n",
       "      <th>Change_Type</th>\n",
       "      <th>hospital</th>\n",
       "      <th>phy_ID</th>\n",
       "      <th>phy_last_name</th>\n",
       "      <th>address</th>\n",
       "      <th>city</th>\n",
       "      <th>state</th>\n",
       "      <th>zip_code</th>\n",
       "      <th>phy_primary_type</th>\n",
       "      <th>phy_specialty</th>\n",
       "      <th>phy_state</th>\n",
       "      <th>submitting_GPO_name</th>\n",
       "      <th>paying_GPO_ID</th>\n",
       "      <th>paying_GPO_name</th>\n",
       "      <th>paying_GPO_state</th>\n",
       "      <th>paying_GPO_country</th>\n",
       "      <th>payment_amount</th>\n",
       "      <th>payment_date</th>\n",
       "      <th>payment_form</th>\n",
       "      <th>Related_Product_Indicator</th>\n",
       "      <th>product1_covered</th>\n",
       "      <th>product1_type</th>\n",
       "      <th>product1_category</th>\n",
       "      <th>product1_name</th>\n",
       "      <th>product1_associated</th>\n",
       "      <th>product2_covered</th>\n",
       "      <th>product2_type</th>\n",
       "      <th>product2_category</th>\n",
       "      <th>product2_name</th>\n",
       "      <th>product2_associated</th>\n",
       "      <th>research_payment</th>\n",
       "    </tr>\n",
       "  </thead>\n",
       "  <tbody>\n",
       "    <tr>\n",
       "      <th>0</th>\n",
       "      <td>UNCHANGED</td>\n",
       "      <td>NaN</td>\n",
       "      <td>121909</td>\n",
       "      <td>BRADLEY</td>\n",
       "      <td>4921 PARKVIEW PL</td>\n",
       "      <td>SAINT LOUIS</td>\n",
       "      <td>MO</td>\n",
       "      <td>63110-1032</td>\n",
       "      <td>Medical Doctor</td>\n",
       "      <td>Allopathic &amp; Osteopathic Physicians|Radiology|...</td>\n",
       "      <td>MO</td>\n",
       "      <td>Mevion_Medical_Systems_Inc</td>\n",
       "      <td>100000011220</td>\n",
       "      <td>Mevion_Medical_Systems_Inc</td>\n",
       "      <td>MA</td>\n",
       "      <td>United States</td>\n",
       "      <td>23.29</td>\n",
       "      <td>2017-12-19</td>\n",
       "      <td>Cash or cash equivalent</td>\n",
       "      <td>Yes</td>\n",
       "      <td>Covered</td>\n",
       "      <td>Device</td>\n",
       "      <td>Proton Therapy for cancer treatment</td>\n",
       "      <td>PTS250</td>\n",
       "      <td>NaN</td>\n",
       "      <td>NaN</td>\n",
       "      <td>NaN</td>\n",
       "      <td>NaN</td>\n",
       "      <td>NaN</td>\n",
       "      <td>NaN</td>\n",
       "      <td>0</td>\n",
       "    </tr>\n",
       "    <tr>\n",
       "      <th>1</th>\n",
       "      <td>UNCHANGED</td>\n",
       "      <td>NaN</td>\n",
       "      <td>47597</td>\n",
       "      <td>MCCOY</td>\n",
       "      <td>1517 UNION AVE</td>\n",
       "      <td>MOBERLY</td>\n",
       "      <td>MO</td>\n",
       "      <td>65270</td>\n",
       "      <td>Doctor of Osteopathy</td>\n",
       "      <td>Allopathic &amp; Osteopathic Physicians|Obstetrics...</td>\n",
       "      <td>MO</td>\n",
       "      <td>Bovie Medical Corporation</td>\n",
       "      <td>100000046274</td>\n",
       "      <td>Bovie Medical Corporation</td>\n",
       "      <td>FL</td>\n",
       "      <td>United States</td>\n",
       "      <td>700.00</td>\n",
       "      <td>2017-09-03</td>\n",
       "      <td>Cash or cash equivalent</td>\n",
       "      <td>No</td>\n",
       "      <td>NaN</td>\n",
       "      <td>NaN</td>\n",
       "      <td>NaN</td>\n",
       "      <td>NaN</td>\n",
       "      <td>NaN</td>\n",
       "      <td>NaN</td>\n",
       "      <td>NaN</td>\n",
       "      <td>NaN</td>\n",
       "      <td>NaN</td>\n",
       "      <td>NaN</td>\n",
       "      <td>0</td>\n",
       "    </tr>\n",
       "  </tbody>\n",
       "</table>\n",
       "</div>"
      ],
      "text/plain": [
       "  Change_Type hospital  phy_ID phy_last_name           address         city  \\\n",
       "0   UNCHANGED      NaN  121909       BRADLEY  4921 PARKVIEW PL  SAINT LOUIS   \n",
       "1   UNCHANGED      NaN   47597         MCCOY    1517 UNION AVE      MOBERLY   \n",
       "\n",
       "  state    zip_code      phy_primary_type  \\\n",
       "0    MO  63110-1032        Medical Doctor   \n",
       "1    MO       65270  Doctor of Osteopathy   \n",
       "\n",
       "                                       phy_specialty phy_state  \\\n",
       "0  Allopathic & Osteopathic Physicians|Radiology|...        MO   \n",
       "1  Allopathic & Osteopathic Physicians|Obstetrics...        MO   \n",
       "\n",
       "          submitting_GPO_name  paying_GPO_ID             paying_GPO_name  \\\n",
       "0  Mevion_Medical_Systems_Inc   100000011220  Mevion_Medical_Systems_Inc   \n",
       "1   Bovie Medical Corporation   100000046274   Bovie Medical Corporation   \n",
       "\n",
       "  paying_GPO_state paying_GPO_country  payment_amount payment_date  \\\n",
       "0               MA      United States           23.29   2017-12-19   \n",
       "1               FL      United States          700.00   2017-09-03   \n",
       "\n",
       "              payment_form Related_Product_Indicator product1_covered  \\\n",
       "0  Cash or cash equivalent                       Yes          Covered   \n",
       "1  Cash or cash equivalent                        No              NaN   \n",
       "\n",
       "  product1_type                    product1_category product1_name  \\\n",
       "0        Device  Proton Therapy for cancer treatment        PTS250   \n",
       "1           NaN                                  NaN           NaN   \n",
       "\n",
       "  product1_associated product2_covered product2_type product2_category  \\\n",
       "0                 NaN              NaN           NaN               NaN   \n",
       "1                 NaN              NaN           NaN               NaN   \n",
       "\n",
       "  product2_name product2_associated research_payment  \n",
       "0           NaN                 NaN                0  \n",
       "1           NaN                 NaN                0  "
      ]
     },
     "execution_count": 226,
     "metadata": {},
     "output_type": "execute_result"
    }
   ],
   "source": [
    "df.head(2)"
   ]
  },
  {
   "cell_type": "markdown",
   "metadata": {},
   "source": [
    "Although the values of a lot of our variables provide little insight, the fact that they're non empty may be more useful.\n",
    "\n",
    "**Hospital, physician ID and last name**"
   ]
  },
  {
   "cell_type": "code",
   "execution_count": 227,
   "metadata": {},
   "outputs": [
    {
     "data": {
      "image/png": "[encoded data removed]",
      "text/plain": [
       "<Figure size 864x288 with 3 Axes>"
      ]
     },
     "metadata": {
      "needs_background": "light"
     },
     "output_type": "display_data"
    }
   ],
   "source": [
    "cols_simplify = ['hospital', 'phy_ID', 'phy_last_name']\n",
    "\n",
    "fig, ax = plt.subplots(1, 3, figsize=(12, 4), sharey='row')\n",
    "i = 0\n",
    "\n",
    "for c in cols_simplify:\n",
    "    sns.countplot(np.where(df[c].notnull(), 1, 0), hue=df['research_payment'], ax=ax[i])\n",
    "    ax[i].set_xlabel(c)\n",
    "    i+=1\n",
    "plt.tight_layout()"
   ]
  },
  {
   "cell_type": "markdown",
   "metadata": {},
   "source": [
    "We can encode these variables to simplify them whilst also preserving any valuable information. By encoding physician ID and last name, we would be creating two identical variables so we can simply drop one of the two.\n"
   ]
  },
  {
   "cell_type": "code",
   "execution_count": 228,
   "metadata": {},
   "outputs": [],
   "source": [
    "df['hospital'] = np.where(df.hospital.notnull(), 1, 0)\n",
    "df['phy_ID'] = np.where(df.phy_ID.notnull(), 1, 0)\n",
    "df.drop('phy_last_name', axis=1, inplace=True)"
   ]
  },
  {
   "cell_type": "markdown",
   "metadata": {},
   "source": [
    "For the remaining text variables, it might be a good idea to set all their values to lower case before proceeding in case there are any duplicates that have been skipped. "
   ]
  },
  {
   "cell_type": "code",
   "execution_count": 229,
   "metadata": {},
   "outputs": [],
   "source": [
    "for c in df.columns.values[:-1]:\n",
    "    if df[c].dtype == object:\n",
    "        df[c] = df[c].str.lower()"
   ]
  },
  {
   "cell_type": "markdown",
   "metadata": {},
   "source": [
    "**Address**\n",
    "\n",
    "Almost every observation has a different address, so on first glance this might not be a very useful variable."
   ]
  },
  {
   "cell_type": "code",
   "execution_count": 230,
   "metadata": {},
   "outputs": [
    {
     "data": {
      "text/html": [
       "<div>\n",
       "<style scoped>\n",
       "    .dataframe tbody tr th:only-of-type {\n",
       "        vertical-align: middle;\n",
       "    }\n",
       "\n",
       "    .dataframe tbody tr th {\n",
       "        vertical-align: top;\n",
       "    }\n",
       "\n",
       "    .dataframe thead th {\n",
       "        text-align: right;\n",
       "    }\n",
       "</style>\n",
       "<table border=\"1\" class=\"dataframe\">\n",
       "  <thead>\n",
       "    <tr style=\"text-align: right;\">\n",
       "      <th></th>\n",
       "      <th>research_payment</th>\n",
       "      <th>address</th>\n",
       "      <th>0</th>\n",
       "    </tr>\n",
       "  </thead>\n",
       "  <tbody>\n",
       "    <tr>\n",
       "      <th>0</th>\n",
       "      <td>0</td>\n",
       "      <td>1 associate dr</td>\n",
       "      <td>1</td>\n",
       "    </tr>\n",
       "    <tr>\n",
       "      <th>1</th>\n",
       "      <td>0</td>\n",
       "      <td>1 audobon plaza drive</td>\n",
       "      <td>1</td>\n",
       "    </tr>\n",
       "    <tr>\n",
       "      <th>13583</th>\n",
       "      <td>1</td>\n",
       "      <td>west texas retina consultant</td>\n",
       "      <td>1</td>\n",
       "    </tr>\n",
       "    <tr>\n",
       "      <th>13584</th>\n",
       "      <td>1</td>\n",
       "      <td>wls fargo lockbox duke university accounts rec...</td>\n",
       "      <td>1</td>\n",
       "    </tr>\n",
       "  </tbody>\n",
       "</table>\n",
       "</div>"
      ],
      "text/plain": [
       "       research_payment                                            address  0\n",
       "0                     0                                     1 associate dr  1\n",
       "1                     0                              1 audobon plaza drive  1\n",
       "13583                 1                       west texas retina consultant  1\n",
       "13584                 1  wls fargo lockbox duke university accounts rec...  1"
      ]
     },
     "execution_count": 230,
     "metadata": {},
     "output_type": "execute_result"
    }
   ],
   "source": [
    "df.groupby(['research_payment', 'address']).size().reset_index().iloc[np.r_[0:2, -2:0]]"
   ]
  },
  {
   "cell_type": "markdown",
   "metadata": {},
   "source": [
    "It might be worth extracting the notable parts of each address line by looking for some keywords, e.g university, laboratory, medical, hospital etc. \n",
    "\n",
    "We'll map all address to either a hospital/lab/uni or other. "
   ]
  },
  {
   "cell_type": "code",
   "execution_count": 231,
   "metadata": {},
   "outputs": [],
   "source": [
    "# university\n",
    "df['address'] = np.where(df.address.str.contains('uni|depart|medic|lab|resear|foundat', regex=True), 'university', df.address)\n",
    "# hospital\n",
    "df['address'] = np.where(df.address.str.contains('hosp|clinic', regex=True), 'hospital', df.address)\n",
    "# other\n",
    "df['address'] = np.where(df.address.str.contains('hosp|lab|uni', regex=True), df.address, 'other')\n"
   ]
  },
  {
   "cell_type": "code",
   "execution_count": 232,
   "metadata": {},
   "outputs": [
    {
     "data": {
      "text/html": [
       "<div>\n",
       "<style scoped>\n",
       "    .dataframe tbody tr th:only-of-type {\n",
       "        vertical-align: middle;\n",
       "    }\n",
       "\n",
       "    .dataframe tbody tr th {\n",
       "        vertical-align: top;\n",
       "    }\n",
       "\n",
       "    .dataframe thead th {\n",
       "        text-align: right;\n",
       "    }\n",
       "</style>\n",
       "<table border=\"1\" class=\"dataframe\">\n",
       "  <thead>\n",
       "    <tr style=\"text-align: right;\">\n",
       "      <th></th>\n",
       "      <th>research_payment</th>\n",
       "      <th>address</th>\n",
       "      <th>0</th>\n",
       "    </tr>\n",
       "  </thead>\n",
       "  <tbody>\n",
       "    <tr>\n",
       "      <th>0</th>\n",
       "      <td>0</td>\n",
       "      <td>hospital</td>\n",
       "      <td>108</td>\n",
       "    </tr>\n",
       "    <tr>\n",
       "      <th>1</th>\n",
       "      <td>0</td>\n",
       "      <td>laboratory</td>\n",
       "      <td>12</td>\n",
       "    </tr>\n",
       "    <tr>\n",
       "      <th>2</th>\n",
       "      <td>0</td>\n",
       "      <td>other</td>\n",
       "      <td>9565</td>\n",
       "    </tr>\n",
       "    <tr>\n",
       "      <th>3</th>\n",
       "      <td>0</td>\n",
       "      <td>university</td>\n",
       "      <td>315</td>\n",
       "    </tr>\n",
       "    <tr>\n",
       "      <th>4</th>\n",
       "      <td>1</td>\n",
       "      <td>hospital</td>\n",
       "      <td>87</td>\n",
       "    </tr>\n",
       "    <tr>\n",
       "      <th>5</th>\n",
       "      <td>1</td>\n",
       "      <td>laboratory</td>\n",
       "      <td>42</td>\n",
       "    </tr>\n",
       "    <tr>\n",
       "      <th>6</th>\n",
       "      <td>1</td>\n",
       "      <td>other</td>\n",
       "      <td>9381</td>\n",
       "    </tr>\n",
       "    <tr>\n",
       "      <th>7</th>\n",
       "      <td>1</td>\n",
       "      <td>university</td>\n",
       "      <td>490</td>\n",
       "    </tr>\n",
       "  </tbody>\n",
       "</table>\n",
       "</div>"
      ],
      "text/plain": [
       "   research_payment     address     0\n",
       "0                 0    hospital   108\n",
       "1                 0  laboratory    12\n",
       "2                 0       other  9565\n",
       "3                 0  university   315\n",
       "4                 1    hospital    87\n",
       "5                 1  laboratory    42\n",
       "6                 1       other  9381\n",
       "7                 1  university   490"
      ]
     },
     "execution_count": 232,
     "metadata": {},
     "output_type": "execute_result"
    }
   ],
   "source": [
    "df.groupby(['research_payment', 'address']).size().reset_index()"
   ]
  },
  {
   "cell_type": "code",
   "execution_count": null,
   "metadata": {},
   "outputs": [],
   "source": []
  }
 ],
 "metadata": {
  "kernelspec": {
   "display_name": "Python 3",
   "language": "python",
   "name": "python3"
  },
  "language_info": {
   "codemirror_mode": {
    "name": "ipython",
    "version": 3
   },
   "file_extension": ".py",
   "mimetype": "text/x-python",
   "name": "python",
   "nbconvert_exporter": "python",
   "pygments_lexer": "ipython3",
   "version": "3.7.2"
  }
 },
 "nbformat": 4,
 "nbformat_minor": 2
}
