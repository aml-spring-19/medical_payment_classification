{
 "cells": [
  {
   "cell_type": "code",
   "execution_count": 1,
   "metadata": {},
   "outputs": [],
   "source": [
    "import pandas as pd\n",
    "import numpy as np"
   ]
  },
  {
   "cell_type": "markdown",
   "metadata": {},
   "source": [
    "# HW3 - Payment Classification\n",
    "\n",
    "Goal is to predict whether a payment by a company to a medical doctor or facility was made as part of a research project or not. All relevant data can be found [here](https://www.cms.gov/OpenPayments/Explore-the-Data/Dataset-Downloads.html).\n",
    "\n",
    "### Data Description\n",
    "\n",
    "Physicians may be identified as covered recipients of records or as principal investigators associated with research-related payment records. Teaching hospitals may also be identified as covered recipients. Teaching hospitals are defined as any hospital receiving payments for GM, IPPS or IME. \n",
    "\n",
    "\n",
    "Each record in the General Payment, Research Payment, and Ownership/Investment files includes a Change Type indicator field. \n",
    "- NEW: the record is newly reported by the reporting entity since the last publication and is being published for the first time.\n",
    "- ADD: the record is not new in the system but, due to the record not being eligible for publication until the current publication cycle, is being published for the first time.\n",
    "- CHANGED: record was previously published but has been modified since its last publication. A record whose only change since the last publication is a change to its dispute status is categorized as a changed record.\n",
    "- UNCHANGED: record was published during the last publication cycle and is being republished without change in the current publication. \n",
    "\n",
    "Each record in the Removed and Deleted Records includes a Change Type indicator field as well:\n",
    "- DELETED: the previously published record was deleted from the Open Payments system by the reporting entity.\n",
    "- REMOVED: the previously published record was removed from the current publication as a result of the reporting entity making updates to the record which made the record ineligible for publication. \n",
    "\n"
   ]
  },
  {
   "cell_type": "code",
   "execution_count": null,
   "metadata": {},
   "outputs": [],
   "source": []
  }
 ],
 "metadata": {
  "kernelspec": {
   "display_name": "Python 3",
   "language": "python",
   "name": "python3"
  },
  "language_info": {
   "codemirror_mode": {
    "name": "ipython",
    "version": 3
   },
   "file_extension": ".py",
   "mimetype": "text/x-python",
   "name": "python",
   "nbconvert_exporter": "python",
   "pygments_lexer": "ipython3",
   "version": "3.7.2"
  }
 },
 "nbformat": 4,
 "nbformat_minor": 2
}
