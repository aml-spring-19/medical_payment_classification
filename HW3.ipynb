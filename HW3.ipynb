{
 "cells": [
  {
   "cell_type": "code",
   "execution_count": 78,
   "metadata": {},
   "outputs": [],
   "source": [
    "import pandas as pd\n",
    "import numpy as np\n",
    "\n",
    "# plotting\n",
    "import matplotlib.pyplot as plt\n",
    "import seaborn as sns\n",
    "%matplotlib inline\n",
    "\n",
    "# preprocessing\n",
    "from sklearn.model_selection import train_test_split, cross_val_score, GridSearchCV\n",
    "from sklearn.preprocessing import OneHotEncoder, RobustScaler\n",
    "from sklearn.compose import ColumnTransformer\n",
    "from dirty_cat import TargetEncoder\n",
    "from sklearn.pipeline import Pipeline, make_pipeline\n",
    "from sklearn.compose import make_column_transformer\n",
    "\n",
    "# modeling\n",
    "from sklearn.linear_model import LogisticRegression, RidgeClassifier\n",
    "from sklearn.svm import SVC\n",
    "from sklearn.ensemble import RandomForestClassifier\n",
    "from xgboost import XGBClassifier\n",
    "\n",
    "# warnings\n",
    "import warnings\n",
    "warnings.filterwarnings('ignore')\n",
    "\n",
    "# custom functions\n",
    "from hw3_functions import *\n",
    "\n",
    "# other\n",
    "pd.set_option('display.max_columns', 100)\n",
    "np.random.seed(42)"
   ]
  },
  {
   "cell_type": "markdown",
   "metadata": {},
   "source": [
    "# HW3 - Payment Classification\n",
    "\n",
    "By Corentin Llorca (cl3783) and Costas Vafeades (cv2451)\n",
    "\n",
    "Goal is to predict whether a payment by a company to a medical doctor or facility was made as part of a research project or not. All relevant data can be found [here](https://www.cms.gov/OpenPayments/Explore-the-Data/Dataset-Downloads.html).\n",
    "\n",
    "### Data Description\n",
    "\n",
    "Physicians may be identified as covered recipients of records or as principal investigators associated with research-related payment records. Teaching hospitals may also be identified as covered recipients. Teaching hospitals are defined as any hospital receiving payments for GM, IPPS or IME. \n",
    "\n",
    "\n",
    "Each record in the General Payment, Research Payment, and Ownership/Investment files includes a Change Type indicator field. \n",
    "- NEW: the record is newly reported by the reporting entity since the last publication and is being published for the first time.\n",
    "- ADD: the record is not new in the system but, due to the record not being eligible for publication until the current publication cycle, is being published for the first time.\n",
    "- CHANGED: record was previously published but has been modified since its last publication. A record whose only change since the last publication is a change to its dispute status is categorized as a changed record.\n",
    "- UNCHANGED: record was published during the last publication cycle and is being republished without change in the current publication. "
   ]
  },
  {
   "cell_type": "markdown",
   "metadata": {},
   "source": [
    "## Task 1: Identify Features"
   ]
  },
  {
   "cell_type": "markdown",
   "metadata": {},
   "source": [
    "First of all, let's load the data to assemble the dataset. The data comes from two different csv files, OP_DTL_GNRL_PGYR2017_P01182019.csv (general payments) and OP_DTL_RSRCH_PGYR2017_P01182019.csv (research payments), so we load a subsample of those two files, add the target feature \"research_payment\" (0 for rows in the first file and 1 for rows in the second file) and concatenate them. \n",
    "\n",
    "### How do we balance classes? \n",
    "\n",
    "The data is naturally imbalanced, as there are much more records of general payments than research payments. Here are the row counts for both files: "
   ]
  },
  {
   "cell_type": "code",
   "execution_count": 4,
   "metadata": {},
   "outputs": [
    {
     "name": "stdout",
     "output_type": "stream",
     "text": [
      "General payments: 10663833 lines\n",
      "Research payments: 602530 lines\n"
     ]
    }
   ],
   "source": [
    "n_gen = sum(1 for line in open('data\\OP_DTL_GNRL_PGYR2017_P01182019.csv')) - 1\n",
    "n_res = sum(1 for line in open('data\\OP_DTL_RSRCH_PGYR2017_P01182019.csv')) - 1\n",
    "# the -1 is to exclude header\n",
    "\n",
    "print(\"General payments: \" + str(n_gen) + \" lines\")\n",
    "    \n",
    "print(\"Research payments: \" + str(n_res) + \" lines\")"
   ]
  },
  {
   "cell_type": "markdown",
   "metadata": {},
   "source": [
    "Since the general payments csv is way too large to load, we will select a subsample of the rows for each csv, forming the whole dataset. We have the choice of how many rows to select in each file, and the choice we make will end up deciding the class balance. Here are the two options we have: \n",
    "* Select an equal number of rows for both classes: this completely removes class imbalance and the problems it might cause. However, we lose the \"real-world setting\" with imbalanced classes\n",
    "\n",
    "* Select a number of rows in each file that's proportionate to their total number of rows: this will cause class imbalance problems since there is an approximate 95% / 5% class distribution, but will reflect the whole problem better."
   ]
  },
  {
   "cell_type": "markdown",
   "metadata": {},
   "source": [
    "We ended up choosing the former. "
   ]
  },
  {
   "cell_type": "markdown",
   "metadata": {},
   "source": [
    "### Loading and joining the datasets"
   ]
  },
  {
   "cell_type": "markdown",
   "metadata": {},
   "source": [
    "We first load the separate datasets and add the target feature. To load the data, we do a random subsampling."
   ]
  },
  {
   "cell_type": "code",
   "execution_count": 5,
   "metadata": {},
   "outputs": [],
   "source": [
    "# Number of desired samples for each file\n",
    "nsamples_gen = 12500\n",
    "nsamples_res = 12500\n",
    "\n",
    "skiprows_gen = np.sort(np.random.choice(range(1, n_gen+1), replace = False, size = n_gen - nsamples_res))\n",
    "skiprows_res = np.sort(np.random.choice(range(1, n_res+1), replace = False, size = n_res - nsamples_res))\n",
    "\n",
    "gen = pd.read_csv(\"data\\OP_DTL_GNRL_PGYR2017_P01182019.csv\", skiprows = skiprows_gen, parse_dates=['Date_of_Payment'])\n",
    "res = pd.read_csv(\"data\\OP_DTL_RSRCH_PGYR2017_P01182019.csv\", skiprows = skiprows_res, parse_dates=['Date_of_Payment'])\n",
    "\n",
    "gen['research_payment'] = 0\n",
    "res['research_payment'] = 1"
   ]
  },
  {
   "cell_type": "markdown",
   "metadata": {},
   "source": [
    "#### Concatenation\n",
    "\n",
    "The next problem is to concatenate the data. This raises an issue: our two data files have different columns - but also have a lot of columns in common. The \"baseline\" choice here would be to simply use panda's concatenate function, which would give us a concatenated dataset, whose columns would be the union of the columns of the two separated datasets, filling the missing values with NA. \n",
    "\n",
    "However, this creates a problem: since the two separated datasets are also the two separated classes, then if one feature is only non-missing in one of the classes, it might indirectly reveal information about the class to the model, in an unwanted way (data leakage). The solution to that is to only keep the features that are in both datasets when concatenating (inner join instead of outer join)."
   ]
  },
  {
   "cell_type": "code",
   "execution_count": 6,
   "metadata": {},
   "outputs": [],
   "source": [
    "df = pd.concat([gen, res], join='inner')"
   ]
  },
  {
   "cell_type": "markdown",
   "metadata": {},
   "source": [
    "### Data Types"
   ]
  },
  {
   "cell_type": "markdown",
   "metadata": {},
   "source": [
    "We need to check that pandas has loaded the right data types for our dataframe. Printing the dtypes shows us a few irregularities, namely that there are ID features that are counted as floats/ints when they should be used as categoricals. Other than that, there seems to be no problem. We notice, by looking at the dtypes, that the whole dataset has only one continuous variable (Total_Amount_of_Payment_USDollars)."
   ]
  },
  {
   "cell_type": "code",
   "execution_count": 7,
   "metadata": {},
   "outputs": [],
   "source": [
    "to_cat = ['Teaching_Hospital_CCN', 'Teaching_Hospital_ID',\n",
    "          'Physician_Profile_ID', 'Physician_License_State_code5',\n",
    "          'Record_ID', 'Program_Year', 'research_payment']\n",
    "df = df.astype(dtype={v: object for v in to_cat}, copy=False)"
   ]
  },
  {
   "cell_type": "markdown",
   "metadata": {},
   "source": [
    "Before proceeding any further, we create a test set for modeling purposes later on. "
   ]
  },
  {
   "cell_type": "code",
   "execution_count": 8,
   "metadata": {},
   "outputs": [],
   "source": [
    "df, df_test = df_split(df, 'research_payment')"
   ]
  },
  {
   "cell_type": "markdown",
   "metadata": {},
   "source": [
    "### Checking for Data Leakage and Irrelevant Features\n",
    "\n",
    "Before we proceed, it's important to check the values of each of our variables to make sure that they don't leak the target and also remove irrelevant features. "
   ]
  },
  {
   "cell_type": "code",
   "execution_count": 9,
   "metadata": {},
   "outputs": [
    {
     "data": {
      "text/html": [
       "<div>\n",
       "<style scoped>\n",
       "    .dataframe tbody tr th:only-of-type {\n",
       "        vertical-align: middle;\n",
       "    }\n",
       "\n",
       "    .dataframe tbody tr th {\n",
       "        vertical-align: top;\n",
       "    }\n",
       "\n",
       "    .dataframe thead th {\n",
       "        text-align: right;\n",
       "    }\n",
       "</style>\n",
       "<table border=\"1\" class=\"dataframe\">\n",
       "  <thead>\n",
       "    <tr style=\"text-align: right;\">\n",
       "      <th></th>\n",
       "      <th>Change_Type</th>\n",
       "      <th>Covered_Recipient_Type</th>\n",
       "      <th>Teaching_Hospital_CCN</th>\n",
       "      <th>Teaching_Hospital_ID</th>\n",
       "      <th>Teaching_Hospital_Name</th>\n",
       "      <th>Physician_Profile_ID</th>\n",
       "      <th>Physician_First_Name</th>\n",
       "      <th>Physician_Middle_Name</th>\n",
       "      <th>Physician_Last_Name</th>\n",
       "      <th>Physician_Name_Suffix</th>\n",
       "      <th>Recipient_Primary_Business_Street_Address_Line1</th>\n",
       "      <th>Recipient_Primary_Business_Street_Address_Line2</th>\n",
       "      <th>Recipient_City</th>\n",
       "      <th>Recipient_State</th>\n",
       "      <th>Recipient_Zip_Code</th>\n",
       "      <th>Recipient_Country</th>\n",
       "      <th>Recipient_Province</th>\n",
       "      <th>Recipient_Postal_Code</th>\n",
       "      <th>Physician_Primary_Type</th>\n",
       "      <th>Physician_Specialty</th>\n",
       "      <th>Physician_License_State_code1</th>\n",
       "      <th>Physician_License_State_code2</th>\n",
       "      <th>Physician_License_State_code3</th>\n",
       "      <th>Physician_License_State_code4</th>\n",
       "      <th>Physician_License_State_code5</th>\n",
       "      <th>Submitting_Applicable_Manufacturer_or_Applicable_GPO_Name</th>\n",
       "      <th>Applicable_Manufacturer_or_Applicable_GPO_Making_Payment_ID</th>\n",
       "      <th>Applicable_Manufacturer_or_Applicable_GPO_Making_Payment_Name</th>\n",
       "      <th>Applicable_Manufacturer_or_Applicable_GPO_Making_Payment_State</th>\n",
       "      <th>Applicable_Manufacturer_or_Applicable_GPO_Making_Payment_Country</th>\n",
       "      <th>Total_Amount_of_Payment_USDollars</th>\n",
       "      <th>Date_of_Payment</th>\n",
       "      <th>Form_of_Payment_or_Transfer_of_Value</th>\n",
       "      <th>Delay_in_Publication_Indicator</th>\n",
       "      <th>Record_ID</th>\n",
       "      <th>Dispute_Status_for_Publication</th>\n",
       "      <th>Related_Product_Indicator</th>\n",
       "      <th>Covered_or_Noncovered_Indicator_1</th>\n",
       "      <th>Indicate_Drug_or_Biological_or_Device_or_Medical_Supply_1</th>\n",
       "      <th>Product_Category_or_Therapeutic_Area_1</th>\n",
       "      <th>Name_of_Drug_or_Biological_or_Device_or_Medical_Supply_1</th>\n",
       "      <th>Associated_Drug_or_Biological_NDC_1</th>\n",
       "      <th>Covered_or_Noncovered_Indicator_2</th>\n",
       "      <th>Indicate_Drug_or_Biological_or_Device_or_Medical_Supply_2</th>\n",
       "      <th>Product_Category_or_Therapeutic_Area_2</th>\n",
       "      <th>Name_of_Drug_or_Biological_or_Device_or_Medical_Supply_2</th>\n",
       "      <th>Associated_Drug_or_Biological_NDC_2</th>\n",
       "      <th>Covered_or_Noncovered_Indicator_3</th>\n",
       "      <th>Indicate_Drug_or_Biological_or_Device_or_Medical_Supply_3</th>\n",
       "      <th>Product_Category_or_Therapeutic_Area_3</th>\n",
       "      <th>Name_of_Drug_or_Biological_or_Device_or_Medical_Supply_3</th>\n",
       "      <th>Associated_Drug_or_Biological_NDC_3</th>\n",
       "      <th>Covered_or_Noncovered_Indicator_4</th>\n",
       "      <th>Indicate_Drug_or_Biological_or_Device_or_Medical_Supply_4</th>\n",
       "      <th>Product_Category_or_Therapeutic_Area_4</th>\n",
       "      <th>Name_of_Drug_or_Biological_or_Device_or_Medical_Supply_4</th>\n",
       "      <th>Associated_Drug_or_Biological_NDC_4</th>\n",
       "      <th>Covered_or_Noncovered_Indicator_5</th>\n",
       "      <th>Indicate_Drug_or_Biological_or_Device_or_Medical_Supply_5</th>\n",
       "      <th>Product_Category_or_Therapeutic_Area_5</th>\n",
       "      <th>Name_of_Drug_or_Biological_or_Device_or_Medical_Supply_5</th>\n",
       "      <th>Associated_Drug_or_Biological_NDC_5</th>\n",
       "      <th>Program_Year</th>\n",
       "      <th>Payment_Publication_Date</th>\n",
       "      <th>research_payment</th>\n",
       "    </tr>\n",
       "    <tr>\n",
       "      <th>research_payment</th>\n",
       "      <th></th>\n",
       "      <th></th>\n",
       "      <th></th>\n",
       "      <th></th>\n",
       "      <th></th>\n",
       "      <th></th>\n",
       "      <th></th>\n",
       "      <th></th>\n",
       "      <th></th>\n",
       "      <th></th>\n",
       "      <th></th>\n",
       "      <th></th>\n",
       "      <th></th>\n",
       "      <th></th>\n",
       "      <th></th>\n",
       "      <th></th>\n",
       "      <th></th>\n",
       "      <th></th>\n",
       "      <th></th>\n",
       "      <th></th>\n",
       "      <th></th>\n",
       "      <th></th>\n",
       "      <th></th>\n",
       "      <th></th>\n",
       "      <th></th>\n",
       "      <th></th>\n",
       "      <th></th>\n",
       "      <th></th>\n",
       "      <th></th>\n",
       "      <th></th>\n",
       "      <th></th>\n",
       "      <th></th>\n",
       "      <th></th>\n",
       "      <th></th>\n",
       "      <th></th>\n",
       "      <th></th>\n",
       "      <th></th>\n",
       "      <th></th>\n",
       "      <th></th>\n",
       "      <th></th>\n",
       "      <th></th>\n",
       "      <th></th>\n",
       "      <th></th>\n",
       "      <th></th>\n",
       "      <th></th>\n",
       "      <th></th>\n",
       "      <th></th>\n",
       "      <th></th>\n",
       "      <th></th>\n",
       "      <th></th>\n",
       "      <th></th>\n",
       "      <th></th>\n",
       "      <th></th>\n",
       "      <th></th>\n",
       "      <th></th>\n",
       "      <th></th>\n",
       "      <th></th>\n",
       "      <th></th>\n",
       "      <th></th>\n",
       "      <th></th>\n",
       "      <th></th>\n",
       "      <th></th>\n",
       "      <th></th>\n",
       "      <th></th>\n",
       "      <th></th>\n",
       "    </tr>\n",
       "  </thead>\n",
       "  <tbody>\n",
       "    <tr>\n",
       "      <th>0</th>\n",
       "      <td>3</td>\n",
       "      <td>2</td>\n",
       "      <td>31</td>\n",
       "      <td>31</td>\n",
       "      <td>30</td>\n",
       "      <td>9969</td>\n",
       "      <td>3368</td>\n",
       "      <td>1019</td>\n",
       "      <td>7059</td>\n",
       "      <td>19</td>\n",
       "      <td>8854</td>\n",
       "      <td>1500</td>\n",
       "      <td>2957</td>\n",
       "      <td>52</td>\n",
       "      <td>7140</td>\n",
       "      <td>1</td>\n",
       "      <td>0</td>\n",
       "      <td>0</td>\n",
       "      <td>6</td>\n",
       "      <td>169</td>\n",
       "      <td>52</td>\n",
       "      <td>43</td>\n",
       "      <td>25</td>\n",
       "      <td>7</td>\n",
       "      <td>1</td>\n",
       "      <td>434</td>\n",
       "      <td>474</td>\n",
       "      <td>474</td>\n",
       "      <td>35</td>\n",
       "      <td>11</td>\n",
       "      <td>4062</td>\n",
       "      <td>350</td>\n",
       "      <td>3</td>\n",
       "      <td>1</td>\n",
       "      <td>10000</td>\n",
       "      <td>1</td>\n",
       "      <td>2</td>\n",
       "      <td>2</td>\n",
       "      <td>4</td>\n",
       "      <td>519</td>\n",
       "      <td>1279</td>\n",
       "      <td>533</td>\n",
       "      <td>2</td>\n",
       "      <td>4</td>\n",
       "      <td>155</td>\n",
       "      <td>338</td>\n",
       "      <td>198</td>\n",
       "      <td>2</td>\n",
       "      <td>3</td>\n",
       "      <td>98</td>\n",
       "      <td>182</td>\n",
       "      <td>111</td>\n",
       "      <td>1</td>\n",
       "      <td>4</td>\n",
       "      <td>43</td>\n",
       "      <td>63</td>\n",
       "      <td>38</td>\n",
       "      <td>2</td>\n",
       "      <td>4</td>\n",
       "      <td>17</td>\n",
       "      <td>22</td>\n",
       "      <td>11</td>\n",
       "      <td>1</td>\n",
       "      <td>1</td>\n",
       "      <td>1</td>\n",
       "    </tr>\n",
       "    <tr>\n",
       "      <th>1</th>\n",
       "      <td>3</td>\n",
       "      <td>4</td>\n",
       "      <td>1593</td>\n",
       "      <td>1594</td>\n",
       "      <td>364</td>\n",
       "      <td>407</td>\n",
       "      <td>251</td>\n",
       "      <td>88</td>\n",
       "      <td>348</td>\n",
       "      <td>5</td>\n",
       "      <td>5431</td>\n",
       "      <td>1177</td>\n",
       "      <td>1654</td>\n",
       "      <td>52</td>\n",
       "      <td>2862</td>\n",
       "      <td>4</td>\n",
       "      <td>2</td>\n",
       "      <td>4</td>\n",
       "      <td>5</td>\n",
       "      <td>74</td>\n",
       "      <td>40</td>\n",
       "      <td>3</td>\n",
       "      <td>0</td>\n",
       "      <td>0</td>\n",
       "      <td>0</td>\n",
       "      <td>236</td>\n",
       "      <td>274</td>\n",
       "      <td>277</td>\n",
       "      <td>31</td>\n",
       "      <td>17</td>\n",
       "      <td>5876</td>\n",
       "      <td>316</td>\n",
       "      <td>2</td>\n",
       "      <td>1</td>\n",
       "      <td>10000</td>\n",
       "      <td>2</td>\n",
       "      <td>2</td>\n",
       "      <td>2</td>\n",
       "      <td>3</td>\n",
       "      <td>280</td>\n",
       "      <td>694</td>\n",
       "      <td>367</td>\n",
       "      <td>2</td>\n",
       "      <td>3</td>\n",
       "      <td>25</td>\n",
       "      <td>40</td>\n",
       "      <td>18</td>\n",
       "      <td>1</td>\n",
       "      <td>3</td>\n",
       "      <td>13</td>\n",
       "      <td>18</td>\n",
       "      <td>8</td>\n",
       "      <td>1</td>\n",
       "      <td>4</td>\n",
       "      <td>8</td>\n",
       "      <td>9</td>\n",
       "      <td>3</td>\n",
       "      <td>1</td>\n",
       "      <td>3</td>\n",
       "      <td>7</td>\n",
       "      <td>8</td>\n",
       "      <td>2</td>\n",
       "      <td>1</td>\n",
       "      <td>1</td>\n",
       "      <td>1</td>\n",
       "    </tr>\n",
       "  </tbody>\n",
       "</table>\n",
       "</div>"
      ],
      "text/plain": [
       "                  Change_Type  Covered_Recipient_Type  Teaching_Hospital_CCN  \\\n",
       "research_payment                                                               \n",
       "0                           3                       2                     31   \n",
       "1                           3                       4                   1593   \n",
       "\n",
       "                  Teaching_Hospital_ID  Teaching_Hospital_Name  \\\n",
       "research_payment                                                 \n",
       "0                                   31                      30   \n",
       "1                                 1594                     364   \n",
       "\n",
       "                  Physician_Profile_ID  Physician_First_Name  \\\n",
       "research_payment                                               \n",
       "0                                 9969                  3368   \n",
       "1                                  407                   251   \n",
       "\n",
       "                  Physician_Middle_Name  Physician_Last_Name  \\\n",
       "research_payment                                               \n",
       "0                                  1019                 7059   \n",
       "1                                    88                  348   \n",
       "\n",
       "                  Physician_Name_Suffix  \\\n",
       "research_payment                          \n",
       "0                                    19   \n",
       "1                                     5   \n",
       "\n",
       "                  Recipient_Primary_Business_Street_Address_Line1  \\\n",
       "research_payment                                                    \n",
       "0                                                            8854   \n",
       "1                                                            5431   \n",
       "\n",
       "                  Recipient_Primary_Business_Street_Address_Line2  \\\n",
       "research_payment                                                    \n",
       "0                                                            1500   \n",
       "1                                                            1177   \n",
       "\n",
       "                  Recipient_City  Recipient_State  Recipient_Zip_Code  \\\n",
       "research_payment                                                        \n",
       "0                           2957               52                7140   \n",
       "1                           1654               52                2862   \n",
       "\n",
       "                  Recipient_Country  Recipient_Province  \\\n",
       "research_payment                                          \n",
       "0                                 1                   0   \n",
       "1                                 4                   2   \n",
       "\n",
       "                  Recipient_Postal_Code  Physician_Primary_Type  \\\n",
       "research_payment                                                  \n",
       "0                                     0                       6   \n",
       "1                                     4                       5   \n",
       "\n",
       "                  Physician_Specialty  Physician_License_State_code1  \\\n",
       "research_payment                                                       \n",
       "0                                 169                             52   \n",
       "1                                  74                             40   \n",
       "\n",
       "                  Physician_License_State_code2  \\\n",
       "research_payment                                  \n",
       "0                                            43   \n",
       "1                                             3   \n",
       "\n",
       "                  Physician_License_State_code3  \\\n",
       "research_payment                                  \n",
       "0                                            25   \n",
       "1                                             0   \n",
       "\n",
       "                  Physician_License_State_code4  \\\n",
       "research_payment                                  \n",
       "0                                             7   \n",
       "1                                             0   \n",
       "\n",
       "                  Physician_License_State_code5  \\\n",
       "research_payment                                  \n",
       "0                                             1   \n",
       "1                                             0   \n",
       "\n",
       "                  Submitting_Applicable_Manufacturer_or_Applicable_GPO_Name  \\\n",
       "research_payment                                                              \n",
       "0                                                               434           \n",
       "1                                                               236           \n",
       "\n",
       "                  Applicable_Manufacturer_or_Applicable_GPO_Making_Payment_ID  \\\n",
       "research_payment                                                                \n",
       "0                                                               474             \n",
       "1                                                               274             \n",
       "\n",
       "                  Applicable_Manufacturer_or_Applicable_GPO_Making_Payment_Name  \\\n",
       "research_payment                                                                  \n",
       "0                                                               474               \n",
       "1                                                               277               \n",
       "\n",
       "                  Applicable_Manufacturer_or_Applicable_GPO_Making_Payment_State  \\\n",
       "research_payment                                                                   \n",
       "0                                                                35                \n",
       "1                                                                31                \n",
       "\n",
       "                  Applicable_Manufacturer_or_Applicable_GPO_Making_Payment_Country  \\\n",
       "research_payment                                                                     \n",
       "0                                                                11                  \n",
       "1                                                                17                  \n",
       "\n",
       "                  Total_Amount_of_Payment_USDollars  Date_of_Payment  \\\n",
       "research_payment                                                       \n",
       "0                                              4062              350   \n",
       "1                                              5876              316   \n",
       "\n",
       "                  Form_of_Payment_or_Transfer_of_Value  \\\n",
       "research_payment                                         \n",
       "0                                                    3   \n",
       "1                                                    2   \n",
       "\n",
       "                  Delay_in_Publication_Indicator  Record_ID  \\\n",
       "research_payment                                              \n",
       "0                                              1      10000   \n",
       "1                                              1      10000   \n",
       "\n",
       "                  Dispute_Status_for_Publication  Related_Product_Indicator  \\\n",
       "research_payment                                                              \n",
       "0                                              1                          2   \n",
       "1                                              2                          2   \n",
       "\n",
       "                  Covered_or_Noncovered_Indicator_1  \\\n",
       "research_payment                                      \n",
       "0                                                 2   \n",
       "1                                                 2   \n",
       "\n",
       "                  Indicate_Drug_or_Biological_or_Device_or_Medical_Supply_1  \\\n",
       "research_payment                                                              \n",
       "0                                                                 4           \n",
       "1                                                                 3           \n",
       "\n",
       "                  Product_Category_or_Therapeutic_Area_1  \\\n",
       "research_payment                                           \n",
       "0                                                    519   \n",
       "1                                                    280   \n",
       "\n",
       "                  Name_of_Drug_or_Biological_or_Device_or_Medical_Supply_1  \\\n",
       "research_payment                                                             \n",
       "0                                                              1279          \n",
       "1                                                               694          \n",
       "\n",
       "                  Associated_Drug_or_Biological_NDC_1  \\\n",
       "research_payment                                        \n",
       "0                                                 533   \n",
       "1                                                 367   \n",
       "\n",
       "                  Covered_or_Noncovered_Indicator_2  \\\n",
       "research_payment                                      \n",
       "0                                                 2   \n",
       "1                                                 2   \n",
       "\n",
       "                  Indicate_Drug_or_Biological_or_Device_or_Medical_Supply_2  \\\n",
       "research_payment                                                              \n",
       "0                                                                 4           \n",
       "1                                                                 3           \n",
       "\n",
       "                  Product_Category_or_Therapeutic_Area_2  \\\n",
       "research_payment                                           \n",
       "0                                                    155   \n",
       "1                                                     25   \n",
       "\n",
       "                  Name_of_Drug_or_Biological_or_Device_or_Medical_Supply_2  \\\n",
       "research_payment                                                             \n",
       "0                                                               338          \n",
       "1                                                                40          \n",
       "\n",
       "                  Associated_Drug_or_Biological_NDC_2  \\\n",
       "research_payment                                        \n",
       "0                                                 198   \n",
       "1                                                  18   \n",
       "\n",
       "                  Covered_or_Noncovered_Indicator_3  \\\n",
       "research_payment                                      \n",
       "0                                                 2   \n",
       "1                                                 1   \n",
       "\n",
       "                  Indicate_Drug_or_Biological_or_Device_or_Medical_Supply_3  \\\n",
       "research_payment                                                              \n",
       "0                                                                 3           \n",
       "1                                                                 3           \n",
       "\n",
       "                  Product_Category_or_Therapeutic_Area_3  \\\n",
       "research_payment                                           \n",
       "0                                                     98   \n",
       "1                                                     13   \n",
       "\n",
       "                  Name_of_Drug_or_Biological_or_Device_or_Medical_Supply_3  \\\n",
       "research_payment                                                             \n",
       "0                                                               182          \n",
       "1                                                                18          \n",
       "\n",
       "                  Associated_Drug_or_Biological_NDC_3  \\\n",
       "research_payment                                        \n",
       "0                                                 111   \n",
       "1                                                   8   \n",
       "\n",
       "                  Covered_or_Noncovered_Indicator_4  \\\n",
       "research_payment                                      \n",
       "0                                                 1   \n",
       "1                                                 1   \n",
       "\n",
       "                  Indicate_Drug_or_Biological_or_Device_or_Medical_Supply_4  \\\n",
       "research_payment                                                              \n",
       "0                                                                 4           \n",
       "1                                                                 4           \n",
       "\n",
       "                  Product_Category_or_Therapeutic_Area_4  \\\n",
       "research_payment                                           \n",
       "0                                                     43   \n",
       "1                                                      8   \n",
       "\n",
       "                  Name_of_Drug_or_Biological_or_Device_or_Medical_Supply_4  \\\n",
       "research_payment                                                             \n",
       "0                                                                63          \n",
       "1                                                                 9          \n",
       "\n",
       "                  Associated_Drug_or_Biological_NDC_4  \\\n",
       "research_payment                                        \n",
       "0                                                  38   \n",
       "1                                                   3   \n",
       "\n",
       "                  Covered_or_Noncovered_Indicator_5  \\\n",
       "research_payment                                      \n",
       "0                                                 2   \n",
       "1                                                 1   \n",
       "\n",
       "                  Indicate_Drug_or_Biological_or_Device_or_Medical_Supply_5  \\\n",
       "research_payment                                                              \n",
       "0                                                                 4           \n",
       "1                                                                 3           \n",
       "\n",
       "                  Product_Category_or_Therapeutic_Area_5  \\\n",
       "research_payment                                           \n",
       "0                                                     17   \n",
       "1                                                      7   \n",
       "\n",
       "                  Name_of_Drug_or_Biological_or_Device_or_Medical_Supply_5  \\\n",
       "research_payment                                                             \n",
       "0                                                                22          \n",
       "1                                                                 8          \n",
       "\n",
       "                  Associated_Drug_or_Biological_NDC_5  Program_Year  \\\n",
       "research_payment                                                      \n",
       "0                                                  11             1   \n",
       "1                                                   2             1   \n",
       "\n",
       "                  Payment_Publication_Date  research_payment  \n",
       "research_payment                                              \n",
       "0                                        1                 1  \n",
       "1                                        1                 1  "
      ]
     },
     "execution_count": 9,
     "metadata": {},
     "output_type": "execute_result"
    }
   ],
   "source": [
    "df.groupby('research_payment').nunique()"
   ]
  },
  {
   "cell_type": "markdown",
   "metadata": {},
   "source": [
    "We can remove Record_ID as that's a unique identifier of each observation."
   ]
  },
  {
   "cell_type": "code",
   "execution_count": 10,
   "metadata": {},
   "outputs": [],
   "source": [
    "cols_drop = ['Record_ID']"
   ]
  },
  {
   "cell_type": "markdown",
   "metadata": {},
   "source": [
    "Variables that have the same unique value for both research and non-research payments can be considered as irrelevant and be dropped."
   ]
  },
  {
   "cell_type": "code",
   "execution_count": 11,
   "metadata": {},
   "outputs": [],
   "source": [
    "for v in df.columns.values[:-1]:\n",
    "    if len(df[v].unique()) == 1:\n",
    "        cols_drop.append(v)\n",
    "\n",
    "df.drop(cols_drop, axis=1, inplace=True)\n",
    "df_test.drop(cols_drop, axis=1, inplace=True)"
   ]
  },
  {
   "cell_type": "markdown",
   "metadata": {},
   "source": [
    "Variables that have only one value for either of the two types of payments should be investigated further. "
   ]
  },
  {
   "cell_type": "code",
   "execution_count": 12,
   "metadata": {},
   "outputs": [
    {
     "data": {
      "image/png": "[encoded data removed]",
      "text/plain": [
       "<Figure size 1440x360 with 7 Axes>"
      ]
     },
     "metadata": {
      "needs_background": "light"
     },
     "output_type": "display_data"
    }
   ],
   "source": [
    "cols_drop = []\n",
    "for v in df.columns.values[:-1]:\n",
    "    for i in range(2):\n",
    "        if len(df[df['research_payment'] == i][v].unique()) == 1:\n",
    "            if v not in cols_drop: cols_drop.append(v)\n",
    "\n",
    "                \n",
    "fig, ax = plt.subplots(1, len(cols_drop), figsize = (20, 5))\n",
    "i=0\n",
    "for v in cols_drop:\n",
    "    sns.countplot(v, hue='research_payment', data = df, ax = ax[i])\n",
    "    i+=1\n",
    "\n",
    "plt.tight_layout()"
   ]
  },
  {
   "cell_type": "code",
   "execution_count": 13,
   "metadata": {},
   "outputs": [],
   "source": [
    "df.drop(cols_drop, axis=1, inplace=True)\n",
    "df_test.drop(cols_drop, axis=1, inplace=True)"
   ]
  },
  {
   "cell_type": "markdown",
   "metadata": {},
   "source": [
    "#### Sparse Variables\n",
    "\n",
    "A big portion of our features don't have any data for one of the targets. "
   ]
  },
  {
   "cell_type": "code",
   "execution_count": 14,
   "metadata": {},
   "outputs": [
    {
     "data": {
      "image/png": "[encoded data removed]",
      "text/plain": [
       "<Figure size 1440x1152 with 21 Axes>"
      ]
     },
     "metadata": {
      "needs_background": "light"
     },
     "output_type": "display_data"
    }
   ],
   "source": [
    "df_missing = df.copy()\n",
    "for c in df_missing.columns[:-1]:\n",
    "    df_missing[c] = np.where(df_missing[c].isnull(), 'Missing', 'Not Missing')\n",
    "\n",
    "fig, ax = plt.subplots(5, 5, figsize = (20, 16), sharey='row')\n",
    "cols_drop = []\n",
    "# axis indicators\n",
    "i = 0\n",
    "j = 0\n",
    "\n",
    "for v in df_missing.columns.values[:-1]:\n",
    "    if df_missing[df_missing[v] == 'Missing'].shape[0] > (df_missing.shape[0] * 0.9):\n",
    "        sns.countplot(v, hue='research_payment', data = df_missing, ax=ax[j, i])\n",
    "        cols_drop.append(v)\n",
    "        # increment axis\n",
    "        i += 1\n",
    "        if i == 5: j += 1; i = 0\n",
    "        \n",
    "        \n",
    "fig.delaxes(ax[4, 1])\n",
    "fig.delaxes(ax[4, 2])\n",
    "fig.delaxes(ax[4, 3])\n",
    "fig.delaxes(ax[4, 4])\n",
    "plt.tight_layout()\n",
    "plt.show()"
   ]
  },
  {
   "cell_type": "code",
   "execution_count": 15,
   "metadata": {},
   "outputs": [],
   "source": [
    "cols_drop.remove('Teaching_Hospital_ID')\n",
    "df.drop(cols_drop, axis=1, inplace=True)\n",
    "df_test.drop(cols_drop, axis=1, inplace=True)"
   ]
  },
  {
   "cell_type": "markdown",
   "metadata": {},
   "source": [
    "####  Leaky Variables"
   ]
  },
  {
   "cell_type": "code",
   "execution_count": 16,
   "metadata": {},
   "outputs": [
    {
     "data": {
      "image/png": "[encoded data removed]",
      "text/plain": [
       "<Figure size 1440x1080 with 9 Axes>"
      ]
     },
     "metadata": {
      "needs_background": "light"
     },
     "output_type": "display_data"
    }
   ],
   "source": [
    "fig, ax = plt.subplots(3, 4, figsize=(20, 15))\n",
    "i = 0\n",
    "j = 0\n",
    "\n",
    "for c in df.columns.values[:-1]:\n",
    "    if (len(df[c].unique()) <= 10) | (df[c].dtype != object):\n",
    "        sns.scatterplot(x=c, y='research_payment', data=df, ax=ax[j, i])\n",
    "        \n",
    "        i+=1\n",
    "        if i == 4: j+=1; i=0\n",
    "        \n",
    "        \n",
    "fig.delaxes(ax[2,1])\n",
    "fig.delaxes(ax[2,2])\n",
    "fig.delaxes(ax[2,3])\n",
    "plt.tight_layout()\n",
    "plt.show()"
   ]
  },
  {
   "cell_type": "markdown",
   "metadata": {},
   "source": [
    "Judging by the plots above, the variables Covered_Recipient_Type, Physician_Primary_Type and Form_of_Payment_or_Transfer_of_Value could be leaking the target. It's important to investigate these further before proceeding.\n",
    "\n",
    "**Covered_Recipient_Type**"
   ]
  },
  {
   "cell_type": "code",
   "execution_count": 17,
   "metadata": {},
   "outputs": [
    {
     "data": {
      "text/html": [
       "<div>\n",
       "<style scoped>\n",
       "    .dataframe tbody tr th:only-of-type {\n",
       "        vertical-align: middle;\n",
       "    }\n",
       "\n",
       "    .dataframe tbody tr th {\n",
       "        vertical-align: top;\n",
       "    }\n",
       "\n",
       "    .dataframe thead th {\n",
       "        text-align: right;\n",
       "    }\n",
       "</style>\n",
       "<table border=\"1\" class=\"dataframe\">\n",
       "  <thead>\n",
       "    <tr style=\"text-align: right;\">\n",
       "      <th></th>\n",
       "      <th>research_payment</th>\n",
       "      <th>Covered_Recipient_Type</th>\n",
       "      <th>0</th>\n",
       "    </tr>\n",
       "  </thead>\n",
       "  <tbody>\n",
       "    <tr>\n",
       "      <th>0</th>\n",
       "      <td>0</td>\n",
       "      <td>Covered Recipient Physician</td>\n",
       "      <td>9969</td>\n",
       "    </tr>\n",
       "    <tr>\n",
       "      <th>1</th>\n",
       "      <td>0</td>\n",
       "      <td>Covered Recipient Teaching Hospital</td>\n",
       "      <td>31</td>\n",
       "    </tr>\n",
       "    <tr>\n",
       "      <th>2</th>\n",
       "      <td>1</td>\n",
       "      <td>Covered Recipient Physician</td>\n",
       "      <td>407</td>\n",
       "    </tr>\n",
       "    <tr>\n",
       "      <th>3</th>\n",
       "      <td>1</td>\n",
       "      <td>Covered Recipient Teaching Hospital</td>\n",
       "      <td>1597</td>\n",
       "    </tr>\n",
       "    <tr>\n",
       "      <th>4</th>\n",
       "      <td>1</td>\n",
       "      <td>Non-covered Recipient Entity</td>\n",
       "      <td>7983</td>\n",
       "    </tr>\n",
       "    <tr>\n",
       "      <th>5</th>\n",
       "      <td>1</td>\n",
       "      <td>Non-covered Recipient Individual</td>\n",
       "      <td>13</td>\n",
       "    </tr>\n",
       "  </tbody>\n",
       "</table>\n",
       "</div>"
      ],
      "text/plain": [
       "   research_payment               Covered_Recipient_Type     0\n",
       "0                 0          Covered Recipient Physician  9969\n",
       "1                 0  Covered Recipient Teaching Hospital    31\n",
       "2                 1          Covered Recipient Physician   407\n",
       "3                 1  Covered Recipient Teaching Hospital  1597\n",
       "4                 1         Non-covered Recipient Entity  7983\n",
       "5                 1     Non-covered Recipient Individual    13"
      ]
     },
     "execution_count": 17,
     "metadata": {},
     "output_type": "execute_result"
    }
   ],
   "source": [
    "df.groupby(['research_payment', 'Covered_Recipient_Type']).size().reset_index()"
   ]
  },
  {
   "cell_type": "markdown",
   "metadata": {},
   "source": [
    "Given that the proportions are very different for each of our targets, this raises further suspicions. General payments are only made to covered recipients so we can remove this variable as it's better to be safe than sorry. "
   ]
  },
  {
   "cell_type": "code",
   "execution_count": 18,
   "metadata": {},
   "outputs": [],
   "source": [
    "df.drop('Covered_Recipient_Type', axis=1, inplace=True)\n",
    "df_test.drop('Covered_Recipient_Type', axis=1, inplace=True)"
   ]
  },
  {
   "cell_type": "markdown",
   "metadata": {},
   "source": [
    "**Physician_Primary_Type**"
   ]
  },
  {
   "cell_type": "code",
   "execution_count": 19,
   "metadata": {},
   "outputs": [
    {
     "data": {
      "text/html": [
       "<div>\n",
       "<style scoped>\n",
       "    .dataframe tbody tr th:only-of-type {\n",
       "        vertical-align: middle;\n",
       "    }\n",
       "\n",
       "    .dataframe tbody tr th {\n",
       "        vertical-align: top;\n",
       "    }\n",
       "\n",
       "    .dataframe thead th {\n",
       "        text-align: right;\n",
       "    }\n",
       "</style>\n",
       "<table border=\"1\" class=\"dataframe\">\n",
       "  <thead>\n",
       "    <tr style=\"text-align: right;\">\n",
       "      <th></th>\n",
       "      <th>research_payment</th>\n",
       "      <th>Physician_Primary_Type</th>\n",
       "      <th>0</th>\n",
       "    </tr>\n",
       "  </thead>\n",
       "  <tbody>\n",
       "    <tr>\n",
       "      <th>0</th>\n",
       "      <td>0</td>\n",
       "      <td>Chiropractor</td>\n",
       "      <td>3</td>\n",
       "    </tr>\n",
       "    <tr>\n",
       "      <th>1</th>\n",
       "      <td>0</td>\n",
       "      <td>Doctor of Dentistry</td>\n",
       "      <td>269</td>\n",
       "    </tr>\n",
       "    <tr>\n",
       "      <th>2</th>\n",
       "      <td>0</td>\n",
       "      <td>Doctor of Optometry</td>\n",
       "      <td>206</td>\n",
       "    </tr>\n",
       "    <tr>\n",
       "      <th>3</th>\n",
       "      <td>0</td>\n",
       "      <td>Doctor of Osteopathy</td>\n",
       "      <td>889</td>\n",
       "    </tr>\n",
       "    <tr>\n",
       "      <th>4</th>\n",
       "      <td>0</td>\n",
       "      <td>Doctor of Podiatric Medicine</td>\n",
       "      <td>106</td>\n",
       "    </tr>\n",
       "    <tr>\n",
       "      <th>5</th>\n",
       "      <td>0</td>\n",
       "      <td>Medical Doctor</td>\n",
       "      <td>8496</td>\n",
       "    </tr>\n",
       "    <tr>\n",
       "      <th>6</th>\n",
       "      <td>1</td>\n",
       "      <td>Doctor of Dentistry</td>\n",
       "      <td>4</td>\n",
       "    </tr>\n",
       "    <tr>\n",
       "      <th>7</th>\n",
       "      <td>1</td>\n",
       "      <td>Doctor of Optometry</td>\n",
       "      <td>6</td>\n",
       "    </tr>\n",
       "    <tr>\n",
       "      <th>8</th>\n",
       "      <td>1</td>\n",
       "      <td>Doctor of Osteopathy</td>\n",
       "      <td>14</td>\n",
       "    </tr>\n",
       "    <tr>\n",
       "      <th>9</th>\n",
       "      <td>1</td>\n",
       "      <td>Doctor of Podiatric Medicine</td>\n",
       "      <td>3</td>\n",
       "    </tr>\n",
       "    <tr>\n",
       "      <th>10</th>\n",
       "      <td>1</td>\n",
       "      <td>Medical Doctor</td>\n",
       "      <td>380</td>\n",
       "    </tr>\n",
       "  </tbody>\n",
       "</table>\n",
       "</div>"
      ],
      "text/plain": [
       "    research_payment        Physician_Primary_Type     0\n",
       "0                  0                  Chiropractor     3\n",
       "1                  0           Doctor of Dentistry   269\n",
       "2                  0           Doctor of Optometry   206\n",
       "3                  0          Doctor of Osteopathy   889\n",
       "4                  0  Doctor of Podiatric Medicine   106\n",
       "5                  0                Medical Doctor  8496\n",
       "6                  1           Doctor of Dentistry     4\n",
       "7                  1           Doctor of Optometry     6\n",
       "8                  1          Doctor of Osteopathy    14\n",
       "9                  1  Doctor of Podiatric Medicine     3\n",
       "10                 1                Medical Doctor   380"
      ]
     },
     "execution_count": 19,
     "metadata": {},
     "output_type": "execute_result"
    }
   ],
   "source": [
    "df.groupby(['research_payment', 'Physician_Primary_Type']).size().reset_index()"
   ]
  },
  {
   "cell_type": "markdown",
   "metadata": {},
   "source": [
    "The proportions here also raise an eye, but the values don't seem to give away the target.\n",
    "\n",
    "**Form_of_Payment_or_Transfer_of_Value**"
   ]
  },
  {
   "cell_type": "code",
   "execution_count": 20,
   "metadata": {},
   "outputs": [
    {
     "data": {
      "text/html": [
       "<div>\n",
       "<style scoped>\n",
       "    .dataframe tbody tr th:only-of-type {\n",
       "        vertical-align: middle;\n",
       "    }\n",
       "\n",
       "    .dataframe tbody tr th {\n",
       "        vertical-align: top;\n",
       "    }\n",
       "\n",
       "    .dataframe thead th {\n",
       "        text-align: right;\n",
       "    }\n",
       "</style>\n",
       "<table border=\"1\" class=\"dataframe\">\n",
       "  <thead>\n",
       "    <tr style=\"text-align: right;\">\n",
       "      <th></th>\n",
       "      <th>research_payment</th>\n",
       "      <th>Form_of_Payment_or_Transfer_of_Value</th>\n",
       "      <th>0</th>\n",
       "    </tr>\n",
       "  </thead>\n",
       "  <tbody>\n",
       "    <tr>\n",
       "      <th>0</th>\n",
       "      <td>0</td>\n",
       "      <td>Cash or cash equivalent</td>\n",
       "      <td>1555</td>\n",
       "    </tr>\n",
       "    <tr>\n",
       "      <th>1</th>\n",
       "      <td>0</td>\n",
       "      <td>Dividend, profit or other return on investment</td>\n",
       "      <td>1</td>\n",
       "    </tr>\n",
       "    <tr>\n",
       "      <th>2</th>\n",
       "      <td>0</td>\n",
       "      <td>In-kind items and services</td>\n",
       "      <td>8444</td>\n",
       "    </tr>\n",
       "    <tr>\n",
       "      <th>3</th>\n",
       "      <td>1</td>\n",
       "      <td>Cash or cash equivalent</td>\n",
       "      <td>7865</td>\n",
       "    </tr>\n",
       "    <tr>\n",
       "      <th>4</th>\n",
       "      <td>1</td>\n",
       "      <td>In-kind items and services</td>\n",
       "      <td>2135</td>\n",
       "    </tr>\n",
       "  </tbody>\n",
       "</table>\n",
       "</div>"
      ],
      "text/plain": [
       "   research_payment            Form_of_Payment_or_Transfer_of_Value     0\n",
       "0                 0                         Cash or cash equivalent  1555\n",
       "1                 0  Dividend, profit or other return on investment     1\n",
       "2                 0                      In-kind items and services  8444\n",
       "3                 1                         Cash or cash equivalent  7865\n",
       "4                 1                      In-kind items and services  2135"
      ]
     },
     "execution_count": 20,
     "metadata": {},
     "output_type": "execute_result"
    }
   ],
   "source": [
    "df.groupby(['research_payment', 'Form_of_Payment_or_Transfer_of_Value']).size().reset_index()"
   ]
  },
  {
   "cell_type": "markdown",
   "metadata": {},
   "source": [
    "Again, the proportions are very different for each payment type but it doesn't seem to be a dead giveaway. "
   ]
  },
  {
   "cell_type": "markdown",
   "metadata": {},
   "source": [
    "#### Irrelevant Variables\n",
    "\n",
    "After a quick scan of the remaining variables, we can remove those that don't or at least shouldn't have anything to do with the target. "
   ]
  },
  {
   "cell_type": "code",
   "execution_count": 21,
   "metadata": {},
   "outputs": [],
   "source": [
    "cols_drop = ['Physician_First_Name', 'Physician_Middle_Name', 'Recipient_Primary_Business_Street_Address_Line2']\n",
    "df.drop(cols_drop, axis=1, inplace=True)\n",
    "df_test.drop(cols_drop, axis=1, inplace=True)"
   ]
  },
  {
   "cell_type": "markdown",
   "metadata": {},
   "source": [
    "#### Renaming our Variables"
   ]
  },
  {
   "cell_type": "code",
   "execution_count": 22,
   "metadata": {},
   "outputs": [],
   "source": [
    "df = df_rename(df)\n",
    "df_test = df_rename(df_test)"
   ]
  },
  {
   "cell_type": "markdown",
   "metadata": {},
   "source": [
    "## Task 2: Preprocessing and baseline model"
   ]
  },
  {
   "cell_type": "markdown",
   "metadata": {},
   "source": [
    "For the simple minimum viable model, we've decided to do logistic regression with a very limited number of features. The filter we've applied to features is the following (those are very \"harsh\" filters but again, this is a baseline model).\n",
    "* Drop all features with more than 10% missing data (considered \"sparse\")\n",
    "* Drop all categorical features with too many categories since we're going to one-hot encode them. We've chosen 200 (1% of the number of data points) as a threshold"
   ]
  },
  {
   "cell_type": "code",
   "execution_count": 23,
   "metadata": {},
   "outputs": [
    {
     "data": {
      "text/plain": [
       "Index(['Change_Type', 'state', 'paying_GPO_state', 'paying_GPO_country',\n",
       "       'payment_form', 'Related_Product_Indicator', 'product1_covered',\n",
       "       'research_payment'],\n",
       "      dtype='object')"
      ]
     },
     "execution_count": 23,
     "metadata": {},
     "output_type": "execute_result"
    }
   ],
   "source": [
    "cols_drop2 = list(df.columns[df.isnull().sum() > 0.1*df.shape[0]])\n",
    "cats = df.columns[df.dtypes == object]\n",
    "cols_drop2.extend(cats[df[cats].nunique() > 0.01*df.shape[0]])\n",
    "df2 = df.drop(set(cols_drop2), axis=1)\n",
    "df2_test = df_test.drop(set(cols_drop2), axis=1)\n",
    "df2.columns"
   ]
  },
  {
   "cell_type": "markdown",
   "metadata": {},
   "source": [
    "As we can see, we're left with only a few features, only one of which is continuous. We can now set up a baseline model, with basic preprocessing: we're only going to one-hot encode the categorical variables.\n",
    "\n",
    "We assign the \"missing\" category to missing values in categorical variables (such treatment normally shouldn't be done on X directly, but here it doesn't imply data leakage so it's OK). No treatment is needed for the continuous variable since it has no missing value. We then split training and test set.\n",
    "\n",
    "We also need to change y to -1 and 1."
   ]
  },
  {
   "cell_type": "code",
   "execution_count": 24,
   "metadata": {},
   "outputs": [],
   "source": [
    "X = df2.drop('research_payment', axis=1)\n",
    "y = df2['research_payment']\n",
    "\n",
    "X_test = df2_test.drop('research_payment', axis=1)\n",
    "y_test = df2_test['research_payment']\n",
    "\n",
    "X_cats = X.columns[X.dtypes == object].tolist()\n",
    "dict_missing = {i: 'Missing' for i in X_cats}\n",
    "X.fillna(dict_missing, inplace=True)\n",
    "X_test.fillna(dict_missing, inplace=True)\n",
    "\n",
    "y = y.astype(int)*2 - 1\n",
    "y_test = y_test.astype(int)*2 - 1"
   ]
  },
  {
   "cell_type": "code",
   "execution_count": 25,
   "metadata": {},
   "outputs": [
    {
     "data": {
      "text/plain": [
       "0.9286071499999998"
      ]
     },
     "execution_count": 25,
     "metadata": {},
     "output_type": "execute_result"
    }
   ],
   "source": [
    "ohe = OneHotEncoder(categories=\"auto\", handle_unknown = 'ignore')\n",
    "logr = LogisticRegression()\n",
    "prep = ColumnTransformer([(\"one-hot encoding\", ohe, X_cats)])\n",
    "pipe = Pipeline([('preprocessing', prep), ('logreg', logr)])\n",
    "np.mean(cross_val_score(pipe, X, y, cv=10, scoring='roc_auc'))"
   ]
  },
  {
   "cell_type": "code",
   "execution_count": 26,
   "metadata": {},
   "outputs": [
    {
     "data": {
      "text/plain": [
       "0.8738"
      ]
     },
     "execution_count": 26,
     "metadata": {},
     "output_type": "execute_result"
    }
   ],
   "source": [
    "pipe.fit(X, y)\n",
    "pipe.score(X_test, y_test)"
   ]
  },
  {
   "cell_type": "markdown",
   "metadata": {},
   "source": [
    "## Task 3: Feature Engineering\n",
    "\n",
    "Building on a lot of the feature analysis done above, we can engineer our variables with a finer detail to enhance our model performance. "
   ]
  },
  {
   "cell_type": "code",
   "execution_count": 27,
   "metadata": {},
   "outputs": [],
   "source": [
    "for v in ['phy_ID', 'paying_GPO_ID', 'payment_amount', 'research_payment']:\n",
    "    df[v] = pd.to_numeric(df[v])\n",
    "    df_test[v] = pd.to_numeric(df_test[v])\n",
    "\n",
    "df['payment_date'] = pd.to_datetime(df.payment_date)\n",
    "df_test['payment_date'] = pd.to_datetime(df_test.payment_date)"
   ]
  },
  {
   "cell_type": "code",
   "execution_count": 28,
   "metadata": {},
   "outputs": [
    {
     "data": {
      "text/html": [
       "<div>\n",
       "<style scoped>\n",
       "    .dataframe tbody tr th:only-of-type {\n",
       "        vertical-align: middle;\n",
       "    }\n",
       "\n",
       "    .dataframe tbody tr th {\n",
       "        vertical-align: top;\n",
       "    }\n",
       "\n",
       "    .dataframe thead th {\n",
       "        text-align: right;\n",
       "    }\n",
       "</style>\n",
       "<table border=\"1\" class=\"dataframe\">\n",
       "  <thead>\n",
       "    <tr style=\"text-align: right;\">\n",
       "      <th></th>\n",
       "      <th>Change_Type</th>\n",
       "      <th>hospital</th>\n",
       "      <th>phy_ID</th>\n",
       "      <th>phy_last_name</th>\n",
       "      <th>address</th>\n",
       "      <th>city</th>\n",
       "      <th>state</th>\n",
       "      <th>zip_code</th>\n",
       "      <th>phy_primary_type</th>\n",
       "      <th>phy_specialty</th>\n",
       "      <th>phy_state</th>\n",
       "      <th>submitting_GPO_name</th>\n",
       "      <th>paying_GPO_ID</th>\n",
       "      <th>paying_GPO_name</th>\n",
       "      <th>paying_GPO_state</th>\n",
       "      <th>paying_GPO_country</th>\n",
       "      <th>payment_amount</th>\n",
       "      <th>payment_date</th>\n",
       "      <th>payment_form</th>\n",
       "      <th>Related_Product_Indicator</th>\n",
       "      <th>product1_covered</th>\n",
       "      <th>product1_type</th>\n",
       "      <th>product1_category</th>\n",
       "      <th>product1_name</th>\n",
       "      <th>product1_associated</th>\n",
       "      <th>product2_covered</th>\n",
       "      <th>product2_type</th>\n",
       "      <th>product2_category</th>\n",
       "      <th>product2_name</th>\n",
       "      <th>research_payment</th>\n",
       "    </tr>\n",
       "  </thead>\n",
       "  <tbody>\n",
       "    <tr>\n",
       "      <th>0</th>\n",
       "      <td>UNCHANGED</td>\n",
       "      <td>NaN</td>\n",
       "      <td>NaN</td>\n",
       "      <td>NaN</td>\n",
       "      <td>22030 Sherman Way Ste 101</td>\n",
       "      <td>Canoga Park</td>\n",
       "      <td>CA</td>\n",
       "      <td>91303</td>\n",
       "      <td>NaN</td>\n",
       "      <td>NaN</td>\n",
       "      <td>NaN</td>\n",
       "      <td>Sanofi and Genzyme US Companies</td>\n",
       "      <td>100000000067</td>\n",
       "      <td>SANOFI US SERVICES INC.</td>\n",
       "      <td>NJ</td>\n",
       "      <td>United States</td>\n",
       "      <td>350.00</td>\n",
       "      <td>2017-03-14</td>\n",
       "      <td>Cash or cash equivalent</td>\n",
       "      <td>Yes</td>\n",
       "      <td>Non-Covered</td>\n",
       "      <td>Drug</td>\n",
       "      <td>NaN</td>\n",
       "      <td>NO PRODUCT DISCUSSED</td>\n",
       "      <td>NaN</td>\n",
       "      <td>NaN</td>\n",
       "      <td>NaN</td>\n",
       "      <td>NaN</td>\n",
       "      <td>NaN</td>\n",
       "      <td>1</td>\n",
       "    </tr>\n",
       "    <tr>\n",
       "      <th>1</th>\n",
       "      <td>UNCHANGED</td>\n",
       "      <td>NaN</td>\n",
       "      <td>206410.0</td>\n",
       "      <td>GARBADAWALA</td>\n",
       "      <td>465 Home Rd N</td>\n",
       "      <td>Ontario</td>\n",
       "      <td>OH</td>\n",
       "      <td>44906</td>\n",
       "      <td>Medical Doctor</td>\n",
       "      <td>Allopathic &amp; Osteopathic Physicians|Internal M...</td>\n",
       "      <td>OH</td>\n",
       "      <td>Boehringer Ingelheim Pharmaceuticals, Inc.</td>\n",
       "      <td>100000000234</td>\n",
       "      <td>Boehringer Ingelheim Pharmaceuticals, Inc.</td>\n",
       "      <td>CT</td>\n",
       "      <td>United States</td>\n",
       "      <td>4.33</td>\n",
       "      <td>2017-07-18</td>\n",
       "      <td>In-kind items and services</td>\n",
       "      <td>Yes</td>\n",
       "      <td>Covered</td>\n",
       "      <td>Drug</td>\n",
       "      <td>RESPIRATORY</td>\n",
       "      <td>SPIRIVA</td>\n",
       "      <td>00597-0075-0</td>\n",
       "      <td>NaN</td>\n",
       "      <td>NaN</td>\n",
       "      <td>NaN</td>\n",
       "      <td>NaN</td>\n",
       "      <td>0</td>\n",
       "    </tr>\n",
       "  </tbody>\n",
       "</table>\n",
       "</div>"
      ],
      "text/plain": [
       "  Change_Type hospital    phy_ID phy_last_name                    address  \\\n",
       "0   UNCHANGED      NaN       NaN           NaN  22030 Sherman Way Ste 101   \n",
       "1   UNCHANGED      NaN  206410.0   GARBADAWALA              465 Home Rd N   \n",
       "\n",
       "          city state zip_code phy_primary_type  \\\n",
       "0  Canoga Park    CA    91303              NaN   \n",
       "1      Ontario    OH    44906   Medical Doctor   \n",
       "\n",
       "                                       phy_specialty phy_state  \\\n",
       "0                                                NaN       NaN   \n",
       "1  Allopathic & Osteopathic Physicians|Internal M...        OH   \n",
       "\n",
       "                          submitting_GPO_name  paying_GPO_ID  \\\n",
       "0             Sanofi and Genzyme US Companies   100000000067   \n",
       "1  Boehringer Ingelheim Pharmaceuticals, Inc.   100000000234   \n",
       "\n",
       "                              paying_GPO_name paying_GPO_state  \\\n",
       "0                     SANOFI US SERVICES INC.               NJ   \n",
       "1  Boehringer Ingelheim Pharmaceuticals, Inc.               CT   \n",
       "\n",
       "  paying_GPO_country  payment_amount payment_date                payment_form  \\\n",
       "0      United States          350.00   2017-03-14     Cash or cash equivalent   \n",
       "1      United States            4.33   2017-07-18  In-kind items and services   \n",
       "\n",
       "  Related_Product_Indicator product1_covered product1_type product1_category  \\\n",
       "0                       Yes      Non-Covered          Drug               NaN   \n",
       "1                       Yes          Covered          Drug       RESPIRATORY   \n",
       "\n",
       "          product1_name product1_associated product2_covered product2_type  \\\n",
       "0  NO PRODUCT DISCUSSED                 NaN              NaN           NaN   \n",
       "1               SPIRIVA        00597-0075-0              NaN           NaN   \n",
       "\n",
       "  product2_category product2_name  research_payment  \n",
       "0               NaN           NaN                 1  \n",
       "1               NaN           NaN                 0  "
      ]
     },
     "execution_count": 28,
     "metadata": {},
     "output_type": "execute_result"
    }
   ],
   "source": [
    "df.head(2)"
   ]
  },
  {
   "cell_type": "markdown",
   "metadata": {},
   "source": [
    "Although the values of a lot of our variables provide little insight, the fact that they're non empty may be more useful.\n",
    "\n",
    "**Hospital, physician ID and last name, Zip-Code**"
   ]
  },
  {
   "cell_type": "code",
   "execution_count": 29,
   "metadata": {},
   "outputs": [
    {
     "data": {
      "image/png": "[encoded data removed]",
      "text/plain": [
       "<Figure size 1152x288 with 4 Axes>"
      ]
     },
     "metadata": {
      "needs_background": "light"
     },
     "output_type": "display_data"
    }
   ],
   "source": [
    "cols_simplify = ['hospital', 'phy_ID', 'phy_last_name', 'zip_code']\n",
    "fig, ax = plt.subplots(1, 4, figsize=(16, 4), sharey='row')\n",
    "i = 0\n",
    "\n",
    "for c in cols_simplify:\n",
    "    sns.countplot(np.where(df[c].notnull(), 1, 0), hue=df['research_payment'], ax=ax[i])\n",
    "    ax[i].set_xlabel(c)\n",
    "    i+=1\n",
    "plt.tight_layout()"
   ]
  },
  {
   "cell_type": "markdown",
   "metadata": {},
   "source": [
    "We can encode these variables to simplify them whilst also preserving any valuable information. Both physician ID and physician last name seem to be leaking the target so we should remove them. Zip-code has a unique value for almost all observations so it's safe to drop it. "
   ]
  },
  {
   "cell_type": "code",
   "execution_count": 30,
   "metadata": {},
   "outputs": [],
   "source": [
    "# hospital\n",
    "df['hospital'] = np.where(df.hospital.notnull(), 1, 0)\n",
    "df_test['hospital'] = np.where(df_test.hospital.notnull(), 1, 0)\n",
    "\n",
    "# phy_ID\n",
    "df['phy_ID'] = np.where(df.phy_ID.notnull(), 1, 0)\n",
    "df_test['phy_ID'] = np.where(df_test.phy_ID.notnull(), 1, 0)\n",
    "\n",
    "# drop last name, zip code and phy ID\n",
    "df.drop(['phy_last_name', 'zip_code', 'phy_ID'], axis=1, inplace=True)\n",
    "df_test.drop(['phy_last_name', 'zip_code', 'phy_ID'], axis=1, inplace=True)"
   ]
  },
  {
   "cell_type": "markdown",
   "metadata": {},
   "source": [
    "For the remaining text variables, it might be a good idea to set all their values to lower case before proceeding in case there are any duplicates that have been skipped. "
   ]
  },
  {
   "cell_type": "code",
   "execution_count": 31,
   "metadata": {},
   "outputs": [],
   "source": [
    "for c in df.columns.values[:-1]:\n",
    "    if df[c].dtype == object:\n",
    "        df[c] = df[c].str.lower()\n",
    "        df_test[c] = df_test[c].str.lower()"
   ]
  },
  {
   "cell_type": "markdown",
   "metadata": {},
   "source": [
    "**Address**\n",
    "\n",
    "Almost every observation has a different address, so on first glance this might not be a very useful variable."
   ]
  },
  {
   "cell_type": "code",
   "execution_count": 32,
   "metadata": {},
   "outputs": [
    {
     "data": {
      "text/html": [
       "<div>\n",
       "<style scoped>\n",
       "    .dataframe tbody tr th:only-of-type {\n",
       "        vertical-align: middle;\n",
       "    }\n",
       "\n",
       "    .dataframe tbody tr th {\n",
       "        vertical-align: top;\n",
       "    }\n",
       "\n",
       "    .dataframe thead th {\n",
       "        text-align: right;\n",
       "    }\n",
       "</style>\n",
       "<table border=\"1\" class=\"dataframe\">\n",
       "  <thead>\n",
       "    <tr style=\"text-align: right;\">\n",
       "      <th></th>\n",
       "      <th>research_payment</th>\n",
       "      <th>address</th>\n",
       "      <th>0</th>\n",
       "    </tr>\n",
       "  </thead>\n",
       "  <tbody>\n",
       "    <tr>\n",
       "      <th>0</th>\n",
       "      <td>0</td>\n",
       "      <td>1 andrew ct</td>\n",
       "      <td>1</td>\n",
       "    </tr>\n",
       "    <tr>\n",
       "      <th>1</th>\n",
       "      <td>0</td>\n",
       "      <td>1 associate dr</td>\n",
       "      <td>1</td>\n",
       "    </tr>\n",
       "    <tr>\n",
       "      <th>13565</th>\n",
       "      <td>1</td>\n",
       "      <td>west texas retina consultant</td>\n",
       "      <td>1</td>\n",
       "    </tr>\n",
       "    <tr>\n",
       "      <th>13566</th>\n",
       "      <td>1</td>\n",
       "      <td>wls fargo lockbox duke university accounts rec...</td>\n",
       "      <td>1</td>\n",
       "    </tr>\n",
       "  </tbody>\n",
       "</table>\n",
       "</div>"
      ],
      "text/plain": [
       "       research_payment                                            address  0\n",
       "0                     0                                        1 andrew ct  1\n",
       "1                     0                                     1 associate dr  1\n",
       "13565                 1                       west texas retina consultant  1\n",
       "13566                 1  wls fargo lockbox duke university accounts rec...  1"
      ]
     },
     "execution_count": 32,
     "metadata": {},
     "output_type": "execute_result"
    }
   ],
   "source": [
    "df.groupby(['research_payment', 'address']).size().reset_index().iloc[np.r_[0:2, -2:0]]"
   ]
  },
  {
   "cell_type": "markdown",
   "metadata": {},
   "source": [
    "It might be worth extracting the notable parts of each address line by looking for some keywords, e.g university, laboratory, medical, hospital etc. \n",
    "\n",
    "We'll map all address to either a hospital/lab/uni or other. "
   ]
  },
  {
   "cell_type": "code",
   "execution_count": 33,
   "metadata": {},
   "outputs": [],
   "source": [
    "# university\n",
    "df['address'] = np.where(df.address.str.contains('uni|depart|medic|lab|resear|foundat', regex=True), 'university', df.address)\n",
    "df_test['address'] = np.where(df_test.address.str.contains('uni|depart|medic|lab|resear|foundat', regex=True), 'university', df_test.address)\n",
    "# hospital\n",
    "df['address'] = np.where(df.address.str.contains('hosp|clinic', regex=True), 'hospital', df.address)\n",
    "df_test['address'] = np.where(df_test.address.str.contains('hosp|clinic', regex=True), 'hospital', df_test.address)\n",
    "# po box\n",
    "df['address'] = np.where(df.address.str.contains('box', regex=True), 'pobox', df.address)\n",
    "df_test['address'] = np.where(df_test.address.str.contains('box', regex=True), 'pobox', df_test.address)\n",
    "# other\n",
    "df['address'] = np.where(df.address.str.contains('hosp|lab|uni|box', regex=True), df.address, 'other')\n",
    "df_test['address'] = np.where(df_test.address.str.contains('hosp|lab|uni|box', regex=True), df_test.address, 'other')"
   ]
  },
  {
   "cell_type": "code",
   "execution_count": 34,
   "metadata": {},
   "outputs": [
    {
     "data": {
      "text/html": [
       "<div>\n",
       "<style scoped>\n",
       "    .dataframe tbody tr th:only-of-type {\n",
       "        vertical-align: middle;\n",
       "    }\n",
       "\n",
       "    .dataframe tbody tr th {\n",
       "        vertical-align: top;\n",
       "    }\n",
       "\n",
       "    .dataframe thead th {\n",
       "        text-align: right;\n",
       "    }\n",
       "</style>\n",
       "<table border=\"1\" class=\"dataframe\">\n",
       "  <thead>\n",
       "    <tr style=\"text-align: right;\">\n",
       "      <th></th>\n",
       "      <th>research_payment</th>\n",
       "      <th>address</th>\n",
       "      <th>0</th>\n",
       "    </tr>\n",
       "  </thead>\n",
       "  <tbody>\n",
       "    <tr>\n",
       "      <th>0</th>\n",
       "      <td>0</td>\n",
       "      <td>hospital</td>\n",
       "      <td>105</td>\n",
       "    </tr>\n",
       "    <tr>\n",
       "      <th>1</th>\n",
       "      <td>0</td>\n",
       "      <td>other</td>\n",
       "      <td>9469</td>\n",
       "    </tr>\n",
       "    <tr>\n",
       "      <th>2</th>\n",
       "      <td>0</td>\n",
       "      <td>pobox</td>\n",
       "      <td>102</td>\n",
       "    </tr>\n",
       "    <tr>\n",
       "      <th>3</th>\n",
       "      <td>0</td>\n",
       "      <td>university</td>\n",
       "      <td>324</td>\n",
       "    </tr>\n",
       "    <tr>\n",
       "      <th>4</th>\n",
       "      <td>1</td>\n",
       "      <td>hospital</td>\n",
       "      <td>86</td>\n",
       "    </tr>\n",
       "    <tr>\n",
       "      <th>5</th>\n",
       "      <td>1</td>\n",
       "      <td>other</td>\n",
       "      <td>9087</td>\n",
       "    </tr>\n",
       "    <tr>\n",
       "      <th>6</th>\n",
       "      <td>1</td>\n",
       "      <td>pobox</td>\n",
       "      <td>296</td>\n",
       "    </tr>\n",
       "    <tr>\n",
       "      <th>7</th>\n",
       "      <td>1</td>\n",
       "      <td>university</td>\n",
       "      <td>531</td>\n",
       "    </tr>\n",
       "  </tbody>\n",
       "</table>\n",
       "</div>"
      ],
      "text/plain": [
       "   research_payment     address     0\n",
       "0                 0    hospital   105\n",
       "1                 0       other  9469\n",
       "2                 0       pobox   102\n",
       "3                 0  university   324\n",
       "4                 1    hospital    86\n",
       "5                 1       other  9087\n",
       "6                 1       pobox   296\n",
       "7                 1  university   531"
      ]
     },
     "execution_count": 34,
     "metadata": {},
     "output_type": "execute_result"
    }
   ],
   "source": [
    "df.groupby(['research_payment', 'address']).size().reset_index()"
   ]
  },
  {
   "cell_type": "markdown",
   "metadata": {},
   "source": [
    "**City**"
   ]
  },
  {
   "cell_type": "code",
   "execution_count": 35,
   "metadata": {},
   "outputs": [
    {
     "name": "stdout",
     "output_type": "stream",
     "text": [
      "The city variable has 2574 unique values.\n"
     ]
    }
   ],
   "source": [
    "print('The city variable has {} unique values.'.format(len(df.city.unique())))"
   ]
  },
  {
   "cell_type": "code",
   "execution_count": 36,
   "metadata": {},
   "outputs": [
    {
     "data": {
      "text/html": [
       "<div>\n",
       "<style scoped>\n",
       "    .dataframe tbody tr th:only-of-type {\n",
       "        vertical-align: middle;\n",
       "    }\n",
       "\n",
       "    .dataframe tbody tr th {\n",
       "        vertical-align: top;\n",
       "    }\n",
       "\n",
       "    .dataframe thead th {\n",
       "        text-align: right;\n",
       "    }\n",
       "</style>\n",
       "<table border=\"1\" class=\"dataframe\">\n",
       "  <thead>\n",
       "    <tr style=\"text-align: right;\">\n",
       "      <th></th>\n",
       "      <th>research_payment</th>\n",
       "      <th>city</th>\n",
       "      <th>0</th>\n",
       "    </tr>\n",
       "  </thead>\n",
       "  <tbody>\n",
       "    <tr>\n",
       "      <th>939</th>\n",
       "      <td>0</td>\n",
       "      <td>houston</td>\n",
       "      <td>150</td>\n",
       "    </tr>\n",
       "    <tr>\n",
       "      <th>1422</th>\n",
       "      <td>0</td>\n",
       "      <td>new york</td>\n",
       "      <td>151</td>\n",
       "    </tr>\n",
       "    <tr>\n",
       "      <th>2365</th>\n",
       "      <td>1</td>\n",
       "      <td>atlanta</td>\n",
       "      <td>131</td>\n",
       "    </tr>\n",
       "    <tr>\n",
       "      <th>2423</th>\n",
       "      <td>1</td>\n",
       "      <td>boston</td>\n",
       "      <td>212</td>\n",
       "    </tr>\n",
       "    <tr>\n",
       "      <th>2497</th>\n",
       "      <td>1</td>\n",
       "      <td>chicago</td>\n",
       "      <td>148</td>\n",
       "    </tr>\n",
       "    <tr>\n",
       "      <th>2516</th>\n",
       "      <td>1</td>\n",
       "      <td>columbus</td>\n",
       "      <td>100</td>\n",
       "    </tr>\n",
       "    <tr>\n",
       "      <th>2545</th>\n",
       "      <td>1</td>\n",
       "      <td>dallas</td>\n",
       "      <td>255</td>\n",
       "    </tr>\n",
       "    <tr>\n",
       "      <th>2755</th>\n",
       "      <td>1</td>\n",
       "      <td>houston</td>\n",
       "      <td>193</td>\n",
       "    </tr>\n",
       "    <tr>\n",
       "      <th>2880</th>\n",
       "      <td>1</td>\n",
       "      <td>los angeles</td>\n",
       "      <td>163</td>\n",
       "    </tr>\n",
       "    <tr>\n",
       "      <th>2939</th>\n",
       "      <td>1</td>\n",
       "      <td>miami</td>\n",
       "      <td>122</td>\n",
       "    </tr>\n",
       "    <tr>\n",
       "      <th>2992</th>\n",
       "      <td>1</td>\n",
       "      <td>nashville</td>\n",
       "      <td>120</td>\n",
       "    </tr>\n",
       "    <tr>\n",
       "      <th>3005</th>\n",
       "      <td>1</td>\n",
       "      <td>new york</td>\n",
       "      <td>204</td>\n",
       "    </tr>\n",
       "    <tr>\n",
       "      <th>3093</th>\n",
       "      <td>1</td>\n",
       "      <td>philadelphia</td>\n",
       "      <td>126</td>\n",
       "    </tr>\n",
       "    <tr>\n",
       "      <th>3194</th>\n",
       "      <td>1</td>\n",
       "      <td>saint louis</td>\n",
       "      <td>110</td>\n",
       "    </tr>\n",
       "    <tr>\n",
       "      <th>3201</th>\n",
       "      <td>1</td>\n",
       "      <td>san antonio</td>\n",
       "      <td>116</td>\n",
       "    </tr>\n",
       "  </tbody>\n",
       "</table>\n",
       "</div>"
      ],
      "text/plain": [
       "      research_payment          city    0\n",
       "939                  0       houston  150\n",
       "1422                 0      new york  151\n",
       "2365                 1       atlanta  131\n",
       "2423                 1        boston  212\n",
       "2497                 1       chicago  148\n",
       "2516                 1      columbus  100\n",
       "2545                 1        dallas  255\n",
       "2755                 1       houston  193\n",
       "2880                 1   los angeles  163\n",
       "2939                 1         miami  122\n",
       "2992                 1     nashville  120\n",
       "3005                 1      new york  204\n",
       "3093                 1  philadelphia  126\n",
       "3194                 1   saint louis  110\n",
       "3201                 1   san antonio  116"
      ]
     },
     "execution_count": 36,
     "metadata": {},
     "output_type": "execute_result"
    }
   ],
   "source": [
    "df.groupby(['research_payment', 'city']).size().reset_index()[df.groupby(['research_payment', 'city']).size().reset_index()[0] >= 100]"
   ]
  },
  {
   "cell_type": "markdown",
   "metadata": {},
   "source": [
    "It might be beneficial for us to keep the most popular cities and group all the others in a common category as the sparsity certainly doesn't help our model. "
   ]
  },
  {
   "cell_type": "code",
   "execution_count": 37,
   "metadata": {},
   "outputs": [],
   "source": [
    "popular_cities = df.groupby(['research_payment', 'city']).size().reset_index()[df.groupby(['research_payment', 'city']).size().reset_index()[0] >= 100]['city'].unique()\n",
    "# remap the city variable\n",
    "df['city'] = np.where(np.isin(df.city, popular_cities), df.city, 'other')\n",
    "df_test['city'] = np.where(np.isin(df_test.city, popular_cities), df_test.city, 'other')"
   ]
  },
  {
   "cell_type": "code",
   "execution_count": 38,
   "metadata": {},
   "outputs": [
    {
     "name": "stdout",
     "output_type": "stream",
     "text": [
      "The variable city now has 14 unique values.\n"
     ]
    }
   ],
   "source": [
    "print('The variable city now has {} unique values.'.format(len(df.city.unique())))"
   ]
  },
  {
   "cell_type": "markdown",
   "metadata": {},
   "source": [
    "**State**"
   ]
  },
  {
   "cell_type": "code",
   "execution_count": 39,
   "metadata": {},
   "outputs": [
    {
     "name": "stdout",
     "output_type": "stream",
     "text": [
      "The variable State has 53 unique values.\n"
     ]
    }
   ],
   "source": [
    "print('The variable State has {} unique values.'.format(len(df.state.unique())))"
   ]
  },
  {
   "cell_type": "markdown",
   "metadata": {},
   "source": [
    "Although not as sparse as the previous variable, this might also be problematic. We can try to visualize the proportions in case it helps. "
   ]
  },
  {
   "cell_type": "code",
   "execution_count": 40,
   "metadata": {},
   "outputs": [
    {
     "data": {
      "image/png": "[encoded data removed]",
      "text/plain": [
       "<Figure size 1152x288 with 1 Axes>"
      ]
     },
     "metadata": {
      "needs_background": "light"
     },
     "output_type": "display_data"
    }
   ],
   "source": [
    "fig, ax = plt.subplots(1, 1, figsize=(16, 4))\n",
    "sns.barplot(x='state', y=0, hue='research_payment', data=df.groupby(['research_payment', 'state']).size().reset_index(), ax = ax)\n",
    "ax.set_ylabel('Count')\n",
    "plt.tight_layout()\n",
    "plt.show()"
   ]
  },
  {
   "cell_type": "markdown",
   "metadata": {},
   "source": [
    "We could try Mean Encoding that may deal with the sparsity appropriately."
   ]
  },
  {
   "cell_type": "code",
   "execution_count": 41,
   "metadata": {},
   "outputs": [],
   "source": [
    "df['state'].fillna('missing', inplace=True)\n",
    "df['state_enc'] = TargetEncoder(clf_type='binary-clf', handle_unknown='ignore').fit_transform(df.state.values.reshape(-1, 1), df.research_payment.values)"
   ]
  },
  {
   "cell_type": "code",
   "execution_count": 42,
   "metadata": {},
   "outputs": [
    {
     "data": {
      "image/png": "[encoded data removed]",
      "text/plain": [
       "<Figure size 1152x288 with 1 Axes>"
      ]
     },
     "metadata": {
      "needs_background": "light"
     },
     "output_type": "display_data"
    }
   ],
   "source": [
    "fig, ax = plt.subplots(1, 1, figsize=(16,4))\n",
    "sns.barplot(x='state', y='state_enc', data=df.groupby('state')['state_enc'].first().reset_index(), ax=ax, color='lightblue')\n",
    "df.drop('state_enc', axis=1, inplace=True)\n",
    "plt.tight_layout()\n",
    "plt.show()"
   ]
  },
  {
   "cell_type": "markdown",
   "metadata": {},
   "source": [
    "**Physician Primary Type**"
   ]
  },
  {
   "cell_type": "code",
   "execution_count": 43,
   "metadata": {},
   "outputs": [
    {
     "data": {
      "text/html": [
       "<div>\n",
       "<style scoped>\n",
       "    .dataframe tbody tr th:only-of-type {\n",
       "        vertical-align: middle;\n",
       "    }\n",
       "\n",
       "    .dataframe tbody tr th {\n",
       "        vertical-align: top;\n",
       "    }\n",
       "\n",
       "    .dataframe thead th {\n",
       "        text-align: right;\n",
       "    }\n",
       "</style>\n",
       "<table border=\"1\" class=\"dataframe\">\n",
       "  <thead>\n",
       "    <tr style=\"text-align: right;\">\n",
       "      <th></th>\n",
       "      <th>research_payment</th>\n",
       "      <th>phy_primary_type</th>\n",
       "      <th>0</th>\n",
       "    </tr>\n",
       "  </thead>\n",
       "  <tbody>\n",
       "    <tr>\n",
       "      <th>0</th>\n",
       "      <td>0</td>\n",
       "      <td>chiropractor</td>\n",
       "      <td>3</td>\n",
       "    </tr>\n",
       "    <tr>\n",
       "      <th>1</th>\n",
       "      <td>0</td>\n",
       "      <td>doctor of dentistry</td>\n",
       "      <td>269</td>\n",
       "    </tr>\n",
       "    <tr>\n",
       "      <th>2</th>\n",
       "      <td>0</td>\n",
       "      <td>doctor of optometry</td>\n",
       "      <td>206</td>\n",
       "    </tr>\n",
       "    <tr>\n",
       "      <th>3</th>\n",
       "      <td>0</td>\n",
       "      <td>doctor of osteopathy</td>\n",
       "      <td>889</td>\n",
       "    </tr>\n",
       "    <tr>\n",
       "      <th>4</th>\n",
       "      <td>0</td>\n",
       "      <td>doctor of podiatric medicine</td>\n",
       "      <td>106</td>\n",
       "    </tr>\n",
       "    <tr>\n",
       "      <th>5</th>\n",
       "      <td>0</td>\n",
       "      <td>medical doctor</td>\n",
       "      <td>8496</td>\n",
       "    </tr>\n",
       "    <tr>\n",
       "      <th>6</th>\n",
       "      <td>1</td>\n",
       "      <td>doctor of dentistry</td>\n",
       "      <td>4</td>\n",
       "    </tr>\n",
       "    <tr>\n",
       "      <th>7</th>\n",
       "      <td>1</td>\n",
       "      <td>doctor of optometry</td>\n",
       "      <td>6</td>\n",
       "    </tr>\n",
       "    <tr>\n",
       "      <th>8</th>\n",
       "      <td>1</td>\n",
       "      <td>doctor of osteopathy</td>\n",
       "      <td>14</td>\n",
       "    </tr>\n",
       "    <tr>\n",
       "      <th>9</th>\n",
       "      <td>1</td>\n",
       "      <td>doctor of podiatric medicine</td>\n",
       "      <td>3</td>\n",
       "    </tr>\n",
       "    <tr>\n",
       "      <th>10</th>\n",
       "      <td>1</td>\n",
       "      <td>medical doctor</td>\n",
       "      <td>380</td>\n",
       "    </tr>\n",
       "  </tbody>\n",
       "</table>\n",
       "</div>"
      ],
      "text/plain": [
       "    research_payment              phy_primary_type     0\n",
       "0                  0                  chiropractor     3\n",
       "1                  0           doctor of dentistry   269\n",
       "2                  0           doctor of optometry   206\n",
       "3                  0          doctor of osteopathy   889\n",
       "4                  0  doctor of podiatric medicine   106\n",
       "5                  0                medical doctor  8496\n",
       "6                  1           doctor of dentistry     4\n",
       "7                  1           doctor of optometry     6\n",
       "8                  1          doctor of osteopathy    14\n",
       "9                  1  doctor of podiatric medicine     3\n",
       "10                 1                medical doctor   380"
      ]
     },
     "execution_count": 43,
     "metadata": {},
     "output_type": "execute_result"
    }
   ],
   "source": [
    "df.groupby(['research_payment', 'phy_primary_type']).size().reset_index()"
   ]
  },
  {
   "cell_type": "markdown",
   "metadata": {},
   "source": [
    "It seems that the majority of general payments are made to medical doctors where as the majority of primary types are null for research payments."
   ]
  },
  {
   "cell_type": "code",
   "execution_count": 44,
   "metadata": {},
   "outputs": [],
   "source": [
    "df['doctor'] = np.where(df.phy_primary_type.isnull(), 0, 1)\n",
    "df_test['doctor'] = np.where(df_test.phy_primary_type.isnull(), 0, 1)\n",
    "# drop the original\n",
    "df.drop('phy_primary_type', axis=1, inplace=True)\n",
    "df_test.drop('phy_primary_type', axis=1, inplace=True)"
   ]
  },
  {
   "cell_type": "markdown",
   "metadata": {},
   "source": [
    "**Physician Specialty**"
   ]
  },
  {
   "cell_type": "code",
   "execution_count": 45,
   "metadata": {},
   "outputs": [
    {
     "data": {
      "text/html": [
       "<div>\n",
       "<style scoped>\n",
       "    .dataframe tbody tr th:only-of-type {\n",
       "        vertical-align: middle;\n",
       "    }\n",
       "\n",
       "    .dataframe tbody tr th {\n",
       "        vertical-align: top;\n",
       "    }\n",
       "\n",
       "    .dataframe thead th {\n",
       "        text-align: right;\n",
       "    }\n",
       "</style>\n",
       "<table border=\"1\" class=\"dataframe\">\n",
       "  <thead>\n",
       "    <tr style=\"text-align: right;\">\n",
       "      <th></th>\n",
       "      <th>research_payment</th>\n",
       "      <th>phy_specialty</th>\n",
       "      <th>0</th>\n",
       "    </tr>\n",
       "  </thead>\n",
       "  <tbody>\n",
       "    <tr>\n",
       "      <th>0</th>\n",
       "      <td>0</td>\n",
       "      <td>allopathic &amp; osteopathic physicians|allergy &amp; ...</td>\n",
       "      <td>77</td>\n",
       "    </tr>\n",
       "    <tr>\n",
       "      <th>1</th>\n",
       "      <td>0</td>\n",
       "      <td>allopathic &amp; osteopathic physicians|allergy &amp; ...</td>\n",
       "      <td>21</td>\n",
       "    </tr>\n",
       "    <tr>\n",
       "      <th>241</th>\n",
       "      <td>1</td>\n",
       "      <td>podiatric medicine &amp; surgery service providers...</td>\n",
       "      <td>1</td>\n",
       "    </tr>\n",
       "    <tr>\n",
       "      <th>242</th>\n",
       "      <td>1</td>\n",
       "      <td>student, health care|student in an organized h...</td>\n",
       "      <td>2</td>\n",
       "    </tr>\n",
       "  </tbody>\n",
       "</table>\n",
       "</div>"
      ],
      "text/plain": [
       "     research_payment                                      phy_specialty   0\n",
       "0                   0  allopathic & osteopathic physicians|allergy & ...  77\n",
       "1                   0  allopathic & osteopathic physicians|allergy & ...  21\n",
       "241                 1  podiatric medicine & surgery service providers...   1\n",
       "242                 1  student, health care|student in an organized h...   2"
      ]
     },
     "execution_count": 45,
     "metadata": {},
     "output_type": "execute_result"
    }
   ],
   "source": [
    "df.groupby(['research_payment', 'phy_specialty']).size().reset_index().iloc[np.r_[0:2, -2:0]]"
   ]
  },
  {
   "cell_type": "markdown",
   "metadata": {},
   "source": [
    "It seems that this feature requires some further parsing."
   ]
  },
  {
   "cell_type": "code",
   "execution_count": 46,
   "metadata": {},
   "outputs": [],
   "source": [
    "df['phy_specialty'] = df['phy_specialty'].str.split('|').str[0]\n",
    "df_test['phy_specialty'] = df_test['phy_specialty'].str.split('|').str[0]"
   ]
  },
  {
   "cell_type": "code",
   "execution_count": 47,
   "metadata": {},
   "outputs": [
    {
     "data": {
      "text/html": [
       "<div>\n",
       "<style scoped>\n",
       "    .dataframe tbody tr th:only-of-type {\n",
       "        vertical-align: middle;\n",
       "    }\n",
       "\n",
       "    .dataframe tbody tr th {\n",
       "        vertical-align: top;\n",
       "    }\n",
       "\n",
       "    .dataframe thead th {\n",
       "        text-align: right;\n",
       "    }\n",
       "</style>\n",
       "<table border=\"1\" class=\"dataframe\">\n",
       "  <thead>\n",
       "    <tr style=\"text-align: right;\">\n",
       "      <th></th>\n",
       "      <th>research_payment</th>\n",
       "      <th>phy_specialty</th>\n",
       "      <th>0</th>\n",
       "    </tr>\n",
       "  </thead>\n",
       "  <tbody>\n",
       "    <tr>\n",
       "      <th>0</th>\n",
       "      <td>0</td>\n",
       "      <td>allopathic &amp; osteopathic physicians</td>\n",
       "      <td>9195</td>\n",
       "    </tr>\n",
       "    <tr>\n",
       "      <th>1</th>\n",
       "      <td>0</td>\n",
       "      <td>ambulatory health care facilities</td>\n",
       "      <td>1</td>\n",
       "    </tr>\n",
       "    <tr>\n",
       "      <th>2</th>\n",
       "      <td>0</td>\n",
       "      <td>behavioral health &amp; social service providers</td>\n",
       "      <td>2</td>\n",
       "    </tr>\n",
       "    <tr>\n",
       "      <th>3</th>\n",
       "      <td>0</td>\n",
       "      <td>chiropractic providers</td>\n",
       "      <td>3</td>\n",
       "    </tr>\n",
       "    <tr>\n",
       "      <th>4</th>\n",
       "      <td>0</td>\n",
       "      <td>dental providers</td>\n",
       "      <td>262</td>\n",
       "    </tr>\n",
       "    <tr>\n",
       "      <th>5</th>\n",
       "      <td>0</td>\n",
       "      <td>eye and vision services providers</td>\n",
       "      <td>206</td>\n",
       "    </tr>\n",
       "    <tr>\n",
       "      <th>6</th>\n",
       "      <td>0</td>\n",
       "      <td>other service providers</td>\n",
       "      <td>125</td>\n",
       "    </tr>\n",
       "    <tr>\n",
       "      <th>7</th>\n",
       "      <td>0</td>\n",
       "      <td>podiatric medicine &amp; surgery service providers</td>\n",
       "      <td>112</td>\n",
       "    </tr>\n",
       "    <tr>\n",
       "      <th>8</th>\n",
       "      <td>0</td>\n",
       "      <td>student, health care</td>\n",
       "      <td>45</td>\n",
       "    </tr>\n",
       "    <tr>\n",
       "      <th>9</th>\n",
       "      <td>0</td>\n",
       "      <td>technologists, technicians &amp; other technical s...</td>\n",
       "      <td>1</td>\n",
       "    </tr>\n",
       "    <tr>\n",
       "      <th>10</th>\n",
       "      <td>1</td>\n",
       "      <td>allopathic &amp; osteopathic physicians</td>\n",
       "      <td>383</td>\n",
       "    </tr>\n",
       "    <tr>\n",
       "      <th>11</th>\n",
       "      <td>1</td>\n",
       "      <td>dental providers</td>\n",
       "      <td>4</td>\n",
       "    </tr>\n",
       "    <tr>\n",
       "      <th>12</th>\n",
       "      <td>1</td>\n",
       "      <td>eye and vision services providers</td>\n",
       "      <td>6</td>\n",
       "    </tr>\n",
       "    <tr>\n",
       "      <th>13</th>\n",
       "      <td>1</td>\n",
       "      <td>other service providers</td>\n",
       "      <td>9</td>\n",
       "    </tr>\n",
       "    <tr>\n",
       "      <th>14</th>\n",
       "      <td>1</td>\n",
       "      <td>podiatric medicine &amp; surgery service providers</td>\n",
       "      <td>3</td>\n",
       "    </tr>\n",
       "    <tr>\n",
       "      <th>15</th>\n",
       "      <td>1</td>\n",
       "      <td>student, health care</td>\n",
       "      <td>2</td>\n",
       "    </tr>\n",
       "  </tbody>\n",
       "</table>\n",
       "</div>"
      ],
      "text/plain": [
       "    research_payment                                      phy_specialty     0\n",
       "0                  0                allopathic & osteopathic physicians  9195\n",
       "1                  0                  ambulatory health care facilities     1\n",
       "2                  0       behavioral health & social service providers     2\n",
       "3                  0                             chiropractic providers     3\n",
       "4                  0                                   dental providers   262\n",
       "5                  0                  eye and vision services providers   206\n",
       "6                  0                            other service providers   125\n",
       "7                  0     podiatric medicine & surgery service providers   112\n",
       "8                  0                               student, health care    45\n",
       "9                  0  technologists, technicians & other technical s...     1\n",
       "10                 1                allopathic & osteopathic physicians   383\n",
       "11                 1                                   dental providers     4\n",
       "12                 1                  eye and vision services providers     6\n",
       "13                 1                            other service providers     9\n",
       "14                 1     podiatric medicine & surgery service providers     3\n",
       "15                 1                               student, health care     2"
      ]
     },
     "execution_count": 47,
     "metadata": {},
     "output_type": "execute_result"
    }
   ],
   "source": [
    "df.groupby(['research_payment', 'phy_specialty']).size().reset_index()"
   ]
  },
  {
   "cell_type": "markdown",
   "metadata": {},
   "source": [
    "Judging by the proportions here, it seems that the majority of general payments are made to allopathic and osteopathic physicians. The majority of phy_specialty for research payments is actually null. This might be indicative of a data leak."
   ]
  },
  {
   "cell_type": "code",
   "execution_count": 48,
   "metadata": {},
   "outputs": [
    {
     "data": {
      "image/png": "[encoded data removed]",
      "text/plain": [
       "<Figure size 576x288 with 1 Axes>"
      ]
     },
     "metadata": {
      "needs_background": "light"
     },
     "output_type": "display_data"
    }
   ],
   "source": [
    "fig, ax = plt.subplots(1, 1, figsize=(8, 4))\n",
    "sns.countplot(np.where(df.phy_specialty.isnull(), 0, 1), hue=df['research_payment'])\n",
    "ax.set_title('Specialty - Missing Values')\n",
    "plt.xticks([0,1], labels=['Missing', 'Not Missing'])\n",
    "plt.tight_layout()\n",
    "plt.show()"
   ]
  },
  {
   "cell_type": "markdown",
   "metadata": {},
   "source": [
    "Following the same reasoning as before, we should remove this variable as it's looking very likely that it's leaking the target."
   ]
  },
  {
   "cell_type": "code",
   "execution_count": 49,
   "metadata": {},
   "outputs": [],
   "source": [
    "df.drop('phy_specialty', axis=1, inplace=True)\n",
    "df_test.drop('phy_specialty', axis=1, inplace=True)"
   ]
  },
  {
   "cell_type": "markdown",
   "metadata": {},
   "source": [
    "**GPO Names**\n",
    "\n",
    "submitting_GPO_name and paying_GPO_name are very often the same; are the observations where the two are different indicative of anything? "
   ]
  },
  {
   "cell_type": "code",
   "execution_count": 50,
   "metadata": {},
   "outputs": [
    {
     "data": {
      "image/png": "[encoded data removed]",
      "text/plain": [
       "<Figure size 576x288 with 1 Axes>"
      ]
     },
     "metadata": {
      "needs_background": "light"
     },
     "output_type": "display_data"
    }
   ],
   "source": [
    "fig, ax = plt.subplots(1, 1, figsize=(8, 4))\n",
    "sns.countplot(np.where(df.submitting_GPO_name != df.paying_GPO_name, 1, 0), hue=df['research_payment'])\n",
    "ax.set_title('Different GPOs and Research Payment')\n",
    "plt.xticks([0,1], labels=['Same', 'Different'])\n",
    "plt.tight_layout()\n",
    "plt.show()"
   ]
  },
  {
   "cell_type": "markdown",
   "metadata": {},
   "source": [
    "It seems that the majority of payments have the same submitting and paying GPO; it also looks that the proportions are somewhat different for the two. "
   ]
  },
  {
   "cell_type": "code",
   "execution_count": 51,
   "metadata": {},
   "outputs": [],
   "source": [
    "df['different_GPO'] = np.where(df.submitting_GPO_name != df.paying_GPO_name, 1, 0)\n",
    "df_test['different_GPO'] = np.where(df_test.submitting_GPO_name != df_test.paying_GPO_name, 1, 0)\n",
    "\n",
    "# drop the original variables\n",
    "df.drop(['submitting_GPO_name', 'paying_GPO_name', 'paying_GPO_ID'], axis=1, inplace=True)\n",
    "df_test.drop(['submitting_GPO_name', 'paying_GPO_name', 'paying_GPO_ID'], axis=1, inplace=True)"
   ]
  },
  {
   "cell_type": "markdown",
   "metadata": {},
   "source": [
    "**Paying GPO State and Country**"
   ]
  },
  {
   "cell_type": "code",
   "execution_count": 52,
   "metadata": {},
   "outputs": [
    {
     "data": {
      "image/png": "[encoded data removed]",
      "text/plain": [
       "<Figure size 1152x720 with 2 Axes>"
      ]
     },
     "metadata": {
      "needs_background": "light"
     },
     "output_type": "display_data"
    }
   ],
   "source": [
    "df.paying_GPO_state.fillna('not_us', inplace=True)\n",
    "df_test.paying_GPO_state.fillna('not_us', inplace=True)\n",
    "\n",
    "fig, ax = plt.subplots(2, 1, figsize=(16, 10))\n",
    "sns.barplot(x='paying_GPO_state', y=0, hue='research_payment', data=df.groupby(['research_payment', 'paying_GPO_state']).size().reset_index(), ax = ax[0])\n",
    "ax[0].set_ylabel('Count')\n",
    "sns.barplot(x='paying_GPO_country', y=0, hue='research_payment', data=df.groupby(['research_payment', 'paying_GPO_country']).size().reset_index(), ax = ax[1])\n",
    "ax[1].set_ylabel('Count')\n",
    "plt.tight_layout()\n",
    "plt.show()"
   ]
  },
  {
   "cell_type": "code",
   "execution_count": 53,
   "metadata": {},
   "outputs": [],
   "source": [
    "df.drop('paying_GPO_country', axis=1, inplace=True)\n",
    "df_test.drop('paying_GPO_country', axis=1, inplace=True)"
   ]
  },
  {
   "cell_type": "markdown",
   "metadata": {},
   "source": [
    "By incorporating the information provided in paying_GPO_country in paying_GPO_state, we can drop the country variable. We can now treat the paying GPO state variable the same way we did the original state variable, target encoding. "
   ]
  },
  {
   "cell_type": "markdown",
   "metadata": {},
   "source": [
    "**Physician State**"
   ]
  },
  {
   "cell_type": "code",
   "execution_count": 54,
   "metadata": {},
   "outputs": [
    {
     "data": {
      "image/png": "[encoded data removed]",
      "text/plain": [
       "<Figure size 576x288 with 1 Axes>"
      ]
     },
     "metadata": {
      "needs_background": "light"
     },
     "output_type": "display_data"
    }
   ],
   "source": [
    "fig, ax = plt.subplots(1, 1, figsize=(8, 4))\n",
    "sns.countplot(np.where(df.phy_state.isnull(), 0, 1), hue=df['research_payment'])\n",
    "ax.set_title('Physician State - Missing Values')\n",
    "plt.xticks([0,1], labels=['Missing', 'Not Missing'])\n",
    "plt.tight_layout()\n",
    "plt.show()"
   ]
  },
  {
   "cell_type": "markdown",
   "metadata": {},
   "source": [
    "This is also evidently leaking the target, it might be safer to drop it."
   ]
  },
  {
   "cell_type": "code",
   "execution_count": 55,
   "metadata": {},
   "outputs": [],
   "source": [
    "df.drop('phy_state', axis=1, inplace=True)\n",
    "df_test.drop('phy_state', axis=1, inplace=True)"
   ]
  },
  {
   "cell_type": "markdown",
   "metadata": {},
   "source": [
    "**Payment Amount**\n",
    "\n",
    "Our only continuous variable, it's important to see whether it needs scaling or any other transformation. "
   ]
  },
  {
   "cell_type": "code",
   "execution_count": 56,
   "metadata": {},
   "outputs": [
    {
     "data": {
      "image/png": "[encoded data removed]",
      "text/plain": [
       "<Figure size 864x288 with 1 Axes>"
      ]
     },
     "metadata": {
      "needs_background": "light"
     },
     "output_type": "display_data"
    }
   ],
   "source": [
    "fig, ax = plt.subplots(1, 1, figsize=(12, 4))\n",
    "sns.distplot(df.payment_amount, ax=ax)\n",
    "plt.show()"
   ]
  },
  {
   "cell_type": "markdown",
   "metadata": {},
   "source": [
    "A log transformation might fix the skewness. "
   ]
  },
  {
   "cell_type": "code",
   "execution_count": 57,
   "metadata": {},
   "outputs": [
    {
     "data": {
      "image/png": "[encoded data removed]",
      "text/plain": [
       "<Figure size 864x288 with 1 Axes>"
      ]
     },
     "metadata": {
      "needs_background": "light"
     },
     "output_type": "display_data"
    }
   ],
   "source": [
    "fig, ax = plt.subplots(1, 1, figsize=(12, 4))\n",
    "sns.distplot(np.log(df.payment_amount), ax=ax)\n",
    "plt.show()"
   ]
  },
  {
   "cell_type": "markdown",
   "metadata": {},
   "source": [
    "Although the transformation doesn't take care of the skewness completely, as there still seems to be a positive skewness in our data, we can still proceed. "
   ]
  },
  {
   "cell_type": "code",
   "execution_count": 58,
   "metadata": {},
   "outputs": [],
   "source": [
    "df['log_payment_amount'] = np.log(df.payment_amount)\n",
    "df_test['log_payment_amount'] = np.log(df_test.payment_amount)\n",
    "df.drop('payment_amount', axis=1, inplace=True)\n",
    "df_test.drop('payment_amount', axis=1, inplace=True)"
   ]
  },
  {
   "cell_type": "markdown",
   "metadata": {},
   "source": [
    "**Payment Form**"
   ]
  },
  {
   "cell_type": "code",
   "execution_count": 59,
   "metadata": {},
   "outputs": [
    {
     "data": {
      "text/html": [
       "<div>\n",
       "<style scoped>\n",
       "    .dataframe tbody tr th:only-of-type {\n",
       "        vertical-align: middle;\n",
       "    }\n",
       "\n",
       "    .dataframe tbody tr th {\n",
       "        vertical-align: top;\n",
       "    }\n",
       "\n",
       "    .dataframe thead th {\n",
       "        text-align: right;\n",
       "    }\n",
       "</style>\n",
       "<table border=\"1\" class=\"dataframe\">\n",
       "  <thead>\n",
       "    <tr style=\"text-align: right;\">\n",
       "      <th></th>\n",
       "      <th>research_payment</th>\n",
       "      <th>payment_form</th>\n",
       "      <th>0</th>\n",
       "    </tr>\n",
       "  </thead>\n",
       "  <tbody>\n",
       "    <tr>\n",
       "      <th>0</th>\n",
       "      <td>0</td>\n",
       "      <td>cash or cash equivalent</td>\n",
       "      <td>1555</td>\n",
       "    </tr>\n",
       "    <tr>\n",
       "      <th>1</th>\n",
       "      <td>0</td>\n",
       "      <td>dividend, profit or other return on investment</td>\n",
       "      <td>1</td>\n",
       "    </tr>\n",
       "    <tr>\n",
       "      <th>2</th>\n",
       "      <td>0</td>\n",
       "      <td>in-kind items and services</td>\n",
       "      <td>8444</td>\n",
       "    </tr>\n",
       "    <tr>\n",
       "      <th>3</th>\n",
       "      <td>1</td>\n",
       "      <td>cash or cash equivalent</td>\n",
       "      <td>7865</td>\n",
       "    </tr>\n",
       "    <tr>\n",
       "      <th>4</th>\n",
       "      <td>1</td>\n",
       "      <td>in-kind items and services</td>\n",
       "      <td>2135</td>\n",
       "    </tr>\n",
       "  </tbody>\n",
       "</table>\n",
       "</div>"
      ],
      "text/plain": [
       "   research_payment                                    payment_form     0\n",
       "0                 0                         cash or cash equivalent  1555\n",
       "1                 0  dividend, profit or other return on investment     1\n",
       "2                 0                      in-kind items and services  8444\n",
       "3                 1                         cash or cash equivalent  7865\n",
       "4                 1                      in-kind items and services  2135"
      ]
     },
     "execution_count": 59,
     "metadata": {},
     "output_type": "execute_result"
    }
   ],
   "source": [
    "df.groupby(['research_payment', 'payment_form']).size().reset_index()"
   ]
  },
  {
   "cell_type": "code",
   "execution_count": 60,
   "metadata": {},
   "outputs": [],
   "source": [
    "df['cash_payment'] = np.where(df.payment_form == 'cash or cash equivalent', 1, 0)\n",
    "df_test['cash_payment'] = np.where(df_test.payment_form == 'cash or cash equivalent', 1, 0)\n",
    "\n",
    "# drop the original\n",
    "df.drop('payment_form', axis=1, inplace=True)\n",
    "df_test.drop('payment_form', axis=1, inplace=True)"
   ]
  },
  {
   "cell_type": "markdown",
   "metadata": {},
   "source": [
    "**Related Product Indicator**"
   ]
  },
  {
   "cell_type": "code",
   "execution_count": 61,
   "metadata": {},
   "outputs": [
    {
     "data": {
      "image/png": "[encoded data removed]",
      "text/plain": [
       "<Figure size 576x288 with 1 Axes>"
      ]
     },
     "metadata": {
      "needs_background": "light"
     },
     "output_type": "display_data"
    }
   ],
   "source": [
    "fig, ax = plt.subplots(1, 1, figsize=(8, 4))\n",
    "sns.countplot(df.Related_Product_Indicator, hue=df['research_payment'])\n",
    "ax.set_title('Related Product Indicator and Research Payment')\n",
    "plt.tight_layout()\n",
    "plt.show()"
   ]
  },
  {
   "cell_type": "code",
   "execution_count": 62,
   "metadata": {},
   "outputs": [],
   "source": [
    "df['related_prod'] = np.where(df.Related_Product_Indicator == 'yes', 1, 0)\n",
    "df_test['related_prod'] = np.where(df_test.Related_Product_Indicator == 'yes', 1, 0)\n",
    "\n",
    "# drop the original\n",
    "df.drop('Related_Product_Indicator', axis=1, inplace=True)\n",
    "df_test.drop('Related_Product_Indicator', axis=1, inplace=True)"
   ]
  },
  {
   "cell_type": "markdown",
   "metadata": {},
   "source": [
    "**Product 1 Variables**"
   ]
  },
  {
   "cell_type": "code",
   "execution_count": 63,
   "metadata": {},
   "outputs": [
    {
     "data": {
      "image/png": "[encoded data removed]",
      "text/plain": [
       "<Figure size 1440x360 with 5 Axes>"
      ]
     },
     "metadata": {
      "needs_background": "light"
     },
     "output_type": "display_data"
    }
   ],
   "source": [
    "p1_vars = ['product1_covered', 'product1_type', 'product1_category', 'product1_name', 'product1_associated']\n",
    "fig, ax = plt.subplots(1, 5, figsize=(20, 5))\n",
    "\n",
    "for i in range(len(p1_vars)):\n",
    "    sns.countplot(np.where(df[p1_vars[i]].isnull(), 0, 1), hue=df['research_payment'], ax=ax[i])\n",
    "    ax[i].set_title(p1_vars[i])\n",
    "    ax[i].set_xticklabels(['Missing', 'Not Missing'])\n",
    "    \n",
    "plt.tight_layout()\n",
    "plt.show()"
   ]
  },
  {
   "cell_type": "code",
   "execution_count": 64,
   "metadata": {},
   "outputs": [
    {
     "data": {
      "text/html": [
       "<div>\n",
       "<style scoped>\n",
       "    .dataframe tbody tr th:only-of-type {\n",
       "        vertical-align: middle;\n",
       "    }\n",
       "\n",
       "    .dataframe tbody tr th {\n",
       "        vertical-align: top;\n",
       "    }\n",
       "\n",
       "    .dataframe thead th {\n",
       "        text-align: right;\n",
       "    }\n",
       "</style>\n",
       "<table border=\"1\" class=\"dataframe\">\n",
       "  <thead>\n",
       "    <tr style=\"text-align: right;\">\n",
       "      <th></th>\n",
       "      <th>research_payment</th>\n",
       "      <th>product1_covered</th>\n",
       "      <th>0</th>\n",
       "    </tr>\n",
       "  </thead>\n",
       "  <tbody>\n",
       "    <tr>\n",
       "      <th>0</th>\n",
       "      <td>0</td>\n",
       "      <td>covered</td>\n",
       "      <td>9254</td>\n",
       "    </tr>\n",
       "    <tr>\n",
       "      <th>1</th>\n",
       "      <td>0</td>\n",
       "      <td>missing</td>\n",
       "      <td>504</td>\n",
       "    </tr>\n",
       "    <tr>\n",
       "      <th>2</th>\n",
       "      <td>0</td>\n",
       "      <td>non-covered</td>\n",
       "      <td>242</td>\n",
       "    </tr>\n",
       "    <tr>\n",
       "      <th>3</th>\n",
       "      <td>1</td>\n",
       "      <td>covered</td>\n",
       "      <td>6348</td>\n",
       "    </tr>\n",
       "    <tr>\n",
       "      <th>4</th>\n",
       "      <td>1</td>\n",
       "      <td>missing</td>\n",
       "      <td>1304</td>\n",
       "    </tr>\n",
       "    <tr>\n",
       "      <th>5</th>\n",
       "      <td>1</td>\n",
       "      <td>non-covered</td>\n",
       "      <td>2348</td>\n",
       "    </tr>\n",
       "  </tbody>\n",
       "</table>\n",
       "</div>"
      ],
      "text/plain": [
       "   research_payment product1_covered     0\n",
       "0                 0          covered  9254\n",
       "1                 0          missing   504\n",
       "2                 0      non-covered   242\n",
       "3                 1          covered  6348\n",
       "4                 1          missing  1304\n",
       "5                 1      non-covered  2348"
      ]
     },
     "execution_count": 64,
     "metadata": {},
     "output_type": "execute_result"
    }
   ],
   "source": [
    "df.product1_covered.fillna('missing', inplace=True)\n",
    "df_test.product1_covered.fillna('missing', inplace=True)\n",
    "df.groupby(['research_payment', 'product1_covered']).size().reset_index()"
   ]
  },
  {
   "cell_type": "code",
   "execution_count": 65,
   "metadata": {},
   "outputs": [
    {
     "data": {
      "text/html": [
       "<div>\n",
       "<style scoped>\n",
       "    .dataframe tbody tr th:only-of-type {\n",
       "        vertical-align: middle;\n",
       "    }\n",
       "\n",
       "    .dataframe tbody tr th {\n",
       "        vertical-align: top;\n",
       "    }\n",
       "\n",
       "    .dataframe thead th {\n",
       "        text-align: right;\n",
       "    }\n",
       "</style>\n",
       "<table border=\"1\" class=\"dataframe\">\n",
       "  <thead>\n",
       "    <tr style=\"text-align: right;\">\n",
       "      <th></th>\n",
       "      <th>research_payment</th>\n",
       "      <th>product1_type</th>\n",
       "      <th>0</th>\n",
       "    </tr>\n",
       "  </thead>\n",
       "  <tbody>\n",
       "    <tr>\n",
       "      <th>0</th>\n",
       "      <td>0</td>\n",
       "      <td>biological</td>\n",
       "      <td>1032</td>\n",
       "    </tr>\n",
       "    <tr>\n",
       "      <th>1</th>\n",
       "      <td>0</td>\n",
       "      <td>device</td>\n",
       "      <td>1893</td>\n",
       "    </tr>\n",
       "    <tr>\n",
       "      <th>2</th>\n",
       "      <td>0</td>\n",
       "      <td>drug</td>\n",
       "      <td>6378</td>\n",
       "    </tr>\n",
       "    <tr>\n",
       "      <th>3</th>\n",
       "      <td>0</td>\n",
       "      <td>medical supply</td>\n",
       "      <td>9</td>\n",
       "    </tr>\n",
       "    <tr>\n",
       "      <th>4</th>\n",
       "      <td>0</td>\n",
       "      <td>missing</td>\n",
       "      <td>688</td>\n",
       "    </tr>\n",
       "    <tr>\n",
       "      <th>5</th>\n",
       "      <td>1</td>\n",
       "      <td>biological</td>\n",
       "      <td>1485</td>\n",
       "    </tr>\n",
       "    <tr>\n",
       "      <th>6</th>\n",
       "      <td>1</td>\n",
       "      <td>device</td>\n",
       "      <td>1105</td>\n",
       "    </tr>\n",
       "    <tr>\n",
       "      <th>7</th>\n",
       "      <td>1</td>\n",
       "      <td>drug</td>\n",
       "      <td>4469</td>\n",
       "    </tr>\n",
       "    <tr>\n",
       "      <th>8</th>\n",
       "      <td>1</td>\n",
       "      <td>missing</td>\n",
       "      <td>2941</td>\n",
       "    </tr>\n",
       "  </tbody>\n",
       "</table>\n",
       "</div>"
      ],
      "text/plain": [
       "   research_payment   product1_type     0\n",
       "0                 0      biological  1032\n",
       "1                 0          device  1893\n",
       "2                 0            drug  6378\n",
       "3                 0  medical supply     9\n",
       "4                 0         missing   688\n",
       "5                 1      biological  1485\n",
       "6                 1          device  1105\n",
       "7                 1            drug  4469\n",
       "8                 1         missing  2941"
      ]
     },
     "execution_count": 65,
     "metadata": {},
     "output_type": "execute_result"
    }
   ],
   "source": [
    "df.product1_type.fillna('missing', inplace=True)\n",
    "df_test.product1_type.fillna('missing', inplace=True)\n",
    "df.groupby(['research_payment', 'product1_type']).size().reset_index()"
   ]
  },
  {
   "cell_type": "code",
   "execution_count": 66,
   "metadata": {},
   "outputs": [
    {
     "data": {
      "text/html": [
       "<div>\n",
       "<style scoped>\n",
       "    .dataframe tbody tr th:only-of-type {\n",
       "        vertical-align: middle;\n",
       "    }\n",
       "\n",
       "    .dataframe tbody tr th {\n",
       "        vertical-align: top;\n",
       "    }\n",
       "\n",
       "    .dataframe thead th {\n",
       "        text-align: right;\n",
       "    }\n",
       "</style>\n",
       "<table border=\"1\" class=\"dataframe\">\n",
       "  <thead>\n",
       "    <tr style=\"text-align: right;\">\n",
       "      <th></th>\n",
       "      <th>research_payment</th>\n",
       "      <th>product1_category</th>\n",
       "      <th>0</th>\n",
       "    </tr>\n",
       "  </thead>\n",
       "  <tbody>\n",
       "    <tr>\n",
       "      <th>0</th>\n",
       "      <td>0</td>\n",
       "      <td>1</td>\n",
       "      <td>4</td>\n",
       "    </tr>\n",
       "    <tr>\n",
       "      <th>1</th>\n",
       "      <td>0</td>\n",
       "      <td>ablation</td>\n",
       "      <td>1</td>\n",
       "    </tr>\n",
       "    <tr>\n",
       "      <th>725</th>\n",
       "      <td>1</td>\n",
       "      <td>wound care</td>\n",
       "      <td>1</td>\n",
       "    </tr>\n",
       "    <tr>\n",
       "      <th>726</th>\n",
       "      <td>1</td>\n",
       "      <td>x-ray</td>\n",
       "      <td>1</td>\n",
       "    </tr>\n",
       "  </tbody>\n",
       "</table>\n",
       "</div>"
      ],
      "text/plain": [
       "     research_payment product1_category  0\n",
       "0                   0                 1  4\n",
       "1                   0          ablation  1\n",
       "725                 1        wound care  1\n",
       "726                 1             x-ray  1"
      ]
     },
     "execution_count": 66,
     "metadata": {},
     "output_type": "execute_result"
    }
   ],
   "source": [
    "df.product1_type.fillna('missing', inplace=True)\n",
    "df_test.product1_type.fillna('missing', inplace=True)\n",
    "df.groupby(['research_payment', 'product1_category']).size().reset_index().iloc[np.r_[0:2, -2:0]]"
   ]
  },
  {
   "cell_type": "markdown",
   "metadata": {},
   "source": [
    "This feature also requires further parsing."
   ]
  },
  {
   "cell_type": "code",
   "execution_count": 67,
   "metadata": {},
   "outputs": [],
   "source": [
    "df['product1_category'] = df['product1_category'].str.split(' ').str[0]\n",
    "df_test['product1_category'] = df_test['product1_category'].str.split(' ').str[0]"
   ]
  },
  {
   "cell_type": "markdown",
   "metadata": {},
   "source": [
    "We keep the most popular categories and group the rest as 'other'. "
   ]
  },
  {
   "cell_type": "code",
   "execution_count": 68,
   "metadata": {},
   "outputs": [],
   "source": [
    "p1_cats = df.groupby(['research_payment', 'product1_category']).size().reset_index()[df.groupby(['research_payment', 'product1_category']).size().reset_index()[0] > 200]['product1_category'].unique()\n",
    "\n",
    "# remap p1 category\n",
    "df['product1_category'] = np.where(np.isin(df.product1_category, p1_cats), df.product1_category, 'other')\n",
    "df_test['product1_category'] = np.where(np.isin(df_test.product1_category, p1_cats), df_test.product1_category, 'other')"
   ]
  },
  {
   "cell_type": "code",
   "execution_count": 69,
   "metadata": {},
   "outputs": [
    {
     "data": {
      "text/html": [
       "<div>\n",
       "<style scoped>\n",
       "    .dataframe tbody tr th:only-of-type {\n",
       "        vertical-align: middle;\n",
       "    }\n",
       "\n",
       "    .dataframe tbody tr th {\n",
       "        vertical-align: top;\n",
       "    }\n",
       "\n",
       "    .dataframe thead th {\n",
       "        text-align: right;\n",
       "    }\n",
       "</style>\n",
       "<table border=\"1\" class=\"dataframe\">\n",
       "  <thead>\n",
       "    <tr style=\"text-align: right;\">\n",
       "      <th></th>\n",
       "      <th>research_payment</th>\n",
       "      <th>product1_name</th>\n",
       "      <th>0</th>\n",
       "    </tr>\n",
       "  </thead>\n",
       "  <tbody>\n",
       "    <tr>\n",
       "      <th>0</th>\n",
       "      <td>0</td>\n",
       "      <td>(810) chenodal</td>\n",
       "      <td>1</td>\n",
       "    </tr>\n",
       "    <tr>\n",
       "      <th>1</th>\n",
       "      <td>0</td>\n",
       "      <td>(815) thiola</td>\n",
       "      <td>2</td>\n",
       "    </tr>\n",
       "    <tr>\n",
       "      <th>1953</th>\n",
       "      <td>1</td>\n",
       "      <td>zykadia</td>\n",
       "      <td>5</td>\n",
       "    </tr>\n",
       "    <tr>\n",
       "      <th>1954</th>\n",
       "      <td>1</td>\n",
       "      <td>zytiga</td>\n",
       "      <td>5</td>\n",
       "    </tr>\n",
       "  </tbody>\n",
       "</table>\n",
       "</div>"
      ],
      "text/plain": [
       "      research_payment   product1_name  0\n",
       "0                    0  (810) chenodal  1\n",
       "1                    0    (815) thiola  2\n",
       "1953                 1         zykadia  5\n",
       "1954                 1          zytiga  5"
      ]
     },
     "execution_count": 69,
     "metadata": {},
     "output_type": "execute_result"
    }
   ],
   "source": [
    "df.product1_name.fillna('missing', inplace=True)\n",
    "df_test.product1_name.fillna('missing', inplace=True)\n",
    "\n",
    "df.groupby(['research_payment', 'product1_name']).size().reset_index().iloc[np.r_[0:2, -2:0]]"
   ]
  },
  {
   "cell_type": "code",
   "execution_count": 70,
   "metadata": {},
   "outputs": [],
   "source": [
    "df.drop(['product1_name', 'product1_associated'], axis=1, inplace=True)\n",
    "df_test.drop(['product1_name', 'product1_associated'], axis=1, inplace=True)"
   ]
  },
  {
   "cell_type": "markdown",
   "metadata": {},
   "source": [
    "**Product 2 Variables**"
   ]
  },
  {
   "cell_type": "code",
   "execution_count": 71,
   "metadata": {},
   "outputs": [
    {
     "data": {
      "image/png": "[encoded data removed]",
      "text/plain": [
       "<Figure size 1152x360 with 4 Axes>"
      ]
     },
     "metadata": {
      "needs_background": "light"
     },
     "output_type": "display_data"
    }
   ],
   "source": [
    "p2_vars = ['product2_covered', 'product2_type', 'product2_category', 'product2_name']\n",
    "fig, ax = plt.subplots(1, 4, figsize=(16, 5))\n",
    "\n",
    "for i in range(len(p2_vars)):\n",
    "    sns.countplot(np.where(df[p2_vars[i]].isnull(), 0, 1), hue=df['research_payment'], ax=ax[i])\n",
    "    ax[i].set_title(p2_vars[i])\n",
    "    ax[i].set_xticklabels(['Missing', 'Not Missing'])\n",
    "    \n",
    "plt.tight_layout()\n",
    "plt.show()"
   ]
  },
  {
   "cell_type": "code",
   "execution_count": 72,
   "metadata": {},
   "outputs": [],
   "source": [
    "df['p2_missing'] = np.where(df.product2_covered.isnull(), 1, 0)\n",
    "df_test['p2_missing'] = np.where(df_test.product2_covered.isnull(), 1, 0)\n",
    "\n",
    "df.drop(p2_vars, axis=1, inplace=True)\n",
    "df_test.drop(p2_vars, axis=1, inplace=True)"
   ]
  },
  {
   "cell_type": "markdown",
   "metadata": {},
   "source": [
    "**Payment Date**"
   ]
  },
  {
   "cell_type": "code",
   "execution_count": 109,
   "metadata": {},
   "outputs": [
    {
     "data": {
      "image/png": "[encoded data removed]",
      "text/plain": [
       "<Figure size 864x288 with 1 Axes>"
      ]
     },
     "metadata": {
      "needs_background": "light"
     },
     "output_type": "display_data"
    }
   ],
   "source": [
    "fig, ax = plt.subplots(1,1, figsize=(12,4))\n",
    "sns.lineplot(x='payment_date', y=0, hue='research_payment', data=df.groupby(['research_payment', 'payment_date']).size().reset_index())\n",
    "plt.show()"
   ]
  },
  {
   "cell_type": "markdown",
   "metadata": {},
   "source": [
    "To get as much information as possible from the payment date variable, we can extract the month, year, day of the month and weekday. But some of these are ordered and better expressed as cyclical features. For instance, if we were to represent the months from 1-12, the  distance from 12 to 1 should be the same as 1 to 2. "
   ]
  },
  {
   "cell_type": "code",
   "execution_count": null,
   "metadata": {},
   "outputs": [],
   "source": [
    "df['']"
   ]
  },
  {
   "cell_type": "code",
   "execution_count": 73,
   "metadata": {},
   "outputs": [
    {
     "data": {
      "text/html": [
       "<div>\n",
       "<style scoped>\n",
       "    .dataframe tbody tr th:only-of-type {\n",
       "        vertical-align: middle;\n",
       "    }\n",
       "\n",
       "    .dataframe tbody tr th {\n",
       "        vertical-align: top;\n",
       "    }\n",
       "\n",
       "    .dataframe thead th {\n",
       "        text-align: right;\n",
       "    }\n",
       "</style>\n",
       "<table border=\"1\" class=\"dataframe\">\n",
       "  <thead>\n",
       "    <tr style=\"text-align: right;\">\n",
       "      <th></th>\n",
       "      <th>Change_Type</th>\n",
       "      <th>hospital</th>\n",
       "      <th>address</th>\n",
       "      <th>city</th>\n",
       "      <th>state</th>\n",
       "      <th>paying_GPO_state</th>\n",
       "      <th>payment_date</th>\n",
       "      <th>product1_covered</th>\n",
       "      <th>product1_type</th>\n",
       "      <th>product1_category</th>\n",
       "      <th>research_payment</th>\n",
       "      <th>doctor</th>\n",
       "      <th>different_GPO</th>\n",
       "      <th>log_payment_amount</th>\n",
       "      <th>cash_payment</th>\n",
       "      <th>related_prod</th>\n",
       "      <th>p2_missing</th>\n",
       "    </tr>\n",
       "  </thead>\n",
       "  <tbody>\n",
       "    <tr>\n",
       "      <th>0</th>\n",
       "      <td>unchanged</td>\n",
       "      <td>0</td>\n",
       "      <td>other</td>\n",
       "      <td>other</td>\n",
       "      <td>ca</td>\n",
       "      <td>nj</td>\n",
       "      <td>2017-03-14</td>\n",
       "      <td>non-covered</td>\n",
       "      <td>drug</td>\n",
       "      <td>other</td>\n",
       "      <td>1</td>\n",
       "      <td>0</td>\n",
       "      <td>1</td>\n",
       "      <td>5.857933</td>\n",
       "      <td>1</td>\n",
       "      <td>1</td>\n",
       "      <td>1</td>\n",
       "    </tr>\n",
       "    <tr>\n",
       "      <th>1</th>\n",
       "      <td>unchanged</td>\n",
       "      <td>0</td>\n",
       "      <td>other</td>\n",
       "      <td>other</td>\n",
       "      <td>oh</td>\n",
       "      <td>ct</td>\n",
       "      <td>2017-07-18</td>\n",
       "      <td>covered</td>\n",
       "      <td>drug</td>\n",
       "      <td>respiratory</td>\n",
       "      <td>0</td>\n",
       "      <td>1</td>\n",
       "      <td>0</td>\n",
       "      <td>1.465568</td>\n",
       "      <td>0</td>\n",
       "      <td>1</td>\n",
       "      <td>1</td>\n",
       "    </tr>\n",
       "  </tbody>\n",
       "</table>\n",
       "</div>"
      ],
      "text/plain": [
       "  Change_Type  hospital address   city state paying_GPO_state payment_date  \\\n",
       "0   unchanged         0   other  other    ca               nj   2017-03-14   \n",
       "1   unchanged         0   other  other    oh               ct   2017-07-18   \n",
       "\n",
       "  product1_covered product1_type product1_category  research_payment  doctor  \\\n",
       "0      non-covered          drug             other                 1       0   \n",
       "1          covered          drug       respiratory                 0       1   \n",
       "\n",
       "   different_GPO  log_payment_amount  cash_payment  related_prod  p2_missing  \n",
       "0              1            5.857933             1             1           1  \n",
       "1              0            1.465568             0             1           1  "
      ]
     },
     "execution_count": 73,
     "metadata": {},
     "output_type": "execute_result"
    }
   ],
   "source": [
    "df.head(2)"
   ]
  },
  {
   "cell_type": "markdown",
   "metadata": {},
   "source": [
    "## Task 4: Modeling\n",
    "\n",
    "Before setting up the models and tuning, we need to create our pipeline. "
   ]
  },
  {
   "cell_type": "code",
   "execution_count": 91,
   "metadata": {},
   "outputs": [],
   "source": [
    "# check for missing data\n",
    "for c in df.columns.values:\n",
    "    if df[df[c].isnull()].shape[0] > 0:\n",
    "        print(c)"
   ]
  },
  {
   "cell_type": "code",
   "execution_count": 93,
   "metadata": {},
   "outputs": [],
   "source": [
    "# get X and y\n",
    "y = df.research_payment.values\n",
    "X = df.drop('research_payment', axis=1).values\n",
    "\n",
    "y_test = df_test.research_payment.values\n",
    "X_test = df_test.drop('research_payment', axis=1).values"
   ]
  },
  {
   "cell_type": "markdown",
   "metadata": {},
   "source": [
    "We have three column transformers:\n",
    "- One for your categorical variables that need to be one hot encoded.\n",
    "- One for the categorical variables that need to be mean encoded.\n",
    "- And one for our one and only continuous variable."
   ]
  },
  {
   "cell_type": "code",
   "execution_count": null,
   "metadata": {},
   "outputs": [],
   "source": []
  },
  {
   "cell_type": "code",
   "execution_count": null,
   "metadata": {},
   "outputs": [],
   "source": []
  },
  {
   "cell_type": "code",
   "execution_count": null,
   "metadata": {},
   "outputs": [],
   "source": []
  },
  {
   "cell_type": "code",
   "execution_count": null,
   "metadata": {},
   "outputs": [],
   "source": []
  },
  {
   "cell_type": "code",
   "execution_count": null,
   "metadata": {},
   "outputs": [],
   "source": []
  }
 ],
 "metadata": {
  "kernelspec": {
   "display_name": "Python 3",
   "language": "python",
   "name": "python3"
  },
  "language_info": {
   "codemirror_mode": {
    "name": "ipython",
    "version": 3
   },
   "file_extension": ".py",
   "mimetype": "text/x-python",
   "name": "python",
   "nbconvert_exporter": "python",
   "pygments_lexer": "ipython3",
   "version": "3.7.2"
  }
 },
 "nbformat": 4,
 "nbformat_minor": 2
}
